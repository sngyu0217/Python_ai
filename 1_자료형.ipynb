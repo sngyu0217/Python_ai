{
  "nbformat": 4,
  "nbformat_minor": 0,
  "metadata": {
    "colab": {
      "provenance": [],
      "authorship_tag": "ABX9TyPSn4DdontIWtDE7Rxg3ePO",
      "include_colab_link": true
    },
    "kernelspec": {
      "name": "python3",
      "display_name": "Python 3"
    },
    "language_info": {
      "name": "python"
    }
  },
  "cells": [
    {
      "cell_type": "markdown",
      "metadata": {
        "id": "view-in-github",
        "colab_type": "text"
      },
      "source": [
        "<a href=\"https://colab.research.google.com/github/sngyu0217/Python_ai/blob/main/1_%EC%9E%90%EB%A3%8C%ED%98%95.ipynb\" target=\"_parent\"><img src=\"https://colab.research.google.com/assets/colab-badge.svg\" alt=\"Open In Colab\"/></a>"
      ]
    },
    {
      "cell_type": "markdown",
      "source": [
        "# 자료형\n",
        "- 자료(data) : 프로그램이 처리할 수 있는 모든 것\n",
        "- 자료형(dat type) : 자료를 개발자들이 쉽게 사용할 수 있도록 기능과 역할에 따라서 구분한 종류\n",
        "  - 문자열(string): 메일 제목, 메세지 내용 등\n",
        "    - 예) \"안녕하세요\", \"Hello, World!\"\n",
        "  - 숫자(number) :물건의 가격, 학생의 성적 등\n",
        "    - 예) 55,273,103,32\n",
        "  - 불(boolean) : 사용자의 로그인 상태 등\n",
        "    - 예) True, False\n"
      ],
      "metadata": {
        "id": "WBafrIeItgSs"
      }
    },
    {
      "cell_type": "markdown",
      "source": [
        "## 숫자 자료형\n",
        "- 숫자 자료형의 종류\n",
        "  - 정수형(integer): 소수점이 없는 숫자\n",
        "    - 예) 0, 1, 273, -53\n",
        "  - 실수형(floating point) : 소수점이 있는 숫자\n",
        "    - 예) 0.0, 52.727, -4.5\n",
        "\n",
        "  - 주의점\n",
        "    - 0과 0.0은 같은 크기를 표현하지만 소수점의 여부에 따라 숫자의 자료형이 달라짐"
      ],
      "metadata": {
        "id": "6Lfub9r4u6fe"
      }
    },
    {
      "cell_type": "markdown",
      "source": [
        "###정수형(integer)"
      ],
      "metadata": {
        "id": "AOn-T4H8v_EX"
      }
    },
    {
      "cell_type": "code",
      "source": [
        "a=123\n",
        "b=-178\n",
        "c=0\n",
        "\n",
        "print(a)\n",
        "print(b)\n",
        "print(c)\n",
        "\n",
        "# type(): 자료형 확인하기\n",
        "# type 함수의 괄호 내부에는 자료를 넣으면 그 자료가 어떤 자료형을 가지고 있는지 확인\n",
        "\n",
        "print(type(a))\n",
        "print(type(b))\n",
        "print(type(c))"
      ],
      "metadata": {
        "colab": {
          "base_uri": "https://localhost:8080/"
        },
        "id": "y7dfvlfrth9u",
        "outputId": "86df3f74-0d4b-41a7-ac84-95f505fb181d"
      },
      "execution_count": 2,
      "outputs": [
        {
          "output_type": "stream",
          "name": "stdout",
          "text": [
            "123\n",
            "-178\n",
            "0\n",
            "<class 'int'>\n",
            "<class 'int'>\n",
            "<class 'int'>\n"
          ]
        }
      ]
    },
    {
      "cell_type": "markdown",
      "source": [
        "### 실수형(Floating-point)"
      ],
      "metadata": {
        "id": "VzTLxhFwwhxp"
      }
    },
    {
      "cell_type": "code",
      "source": [
        "a=1.2\n",
        "b=-3.45\n",
        "\n",
        "print(a)\n",
        "print(b)\n",
        "\n",
        "print(type(a))\n",
        "print(type(b))"
      ],
      "metadata": {
        "colab": {
          "base_uri": "https://localhost:8080/"
        },
        "id": "IApqZhdGv-MB",
        "outputId": "bb16f05f-9e58-4071-9686-4e6dea382ad1"
      },
      "execution_count": 3,
      "outputs": [
        {
          "output_type": "stream",
          "name": "stdout",
          "text": [
            "1.2\n",
            "-3.45\n",
            "<class 'float'>\n",
            "<class 'float'>\n"
          ]
        }
      ]
    },
    {
      "cell_type": "markdown",
      "source": [
        "### 사칙연산"
      ],
      "metadata": {
        "id": "_fa1FnSjwzlJ"
      }
    },
    {
      "cell_type": "code",
      "source": [
        "a=3\n",
        "b=4\n",
        "\n",
        "print(a+b) # 합\n",
        "print(a-b) # 차\n",
        "print(a*b) # 곱\n",
        "print(a/b) # 나눗셈\n",
        "print(a**b) # 제곱\n",
        "print(a//b) # 몫\n",
        "print(a%b) # 나머지"
      ],
      "metadata": {
        "colab": {
          "base_uri": "https://localhost:8080/"
        },
        "id": "H5DnTHrGtiAb",
        "outputId": "83af258d-ad55-4e5f-fb94-6d5301370f10"
      },
      "execution_count": 4,
      "outputs": [
        {
          "output_type": "stream",
          "name": "stdout",
          "text": [
            "7\n",
            "-1\n",
            "12\n",
            "0.75\n",
            "81\n",
            "0\n",
            "3\n"
          ]
        }
      ]
    },
    {
      "cell_type": "markdown",
      "source": [
        "### 연산자의 우선순위\n",
        "- 숫자를 계산할 때는 곱셈과 나눗셈이 덧셈과 뺄셈보다 우선함\n",
        "- 같은 우선순위를 가지는 연산자는 왼쪽에서 오른쪽 순서로 계산"
      ],
      "metadata": {
        "id": "2GehZwAvxJWC"
      }
    },
    {
      "cell_type": "code",
      "source": [
        "print(2+2-2*2/2*2)\n",
        "# 나눗셈 때문에 실수형으로 바껴서 소수점이 나온다"
      ],
      "metadata": {
        "colab": {
          "base_uri": "https://localhost:8080/"
        },
        "id": "1IoUHcO5tiHT",
        "outputId": "f15d79e9-a0db-4a27-fb78-d32ee34fc224"
      },
      "execution_count": 5,
      "outputs": [
        {
          "output_type": "stream",
          "name": "stdout",
          "text": [
            "0.0\n"
          ]
        }
      ]
    },
    {
      "cell_type": "code",
      "source": [
        "# 먼저 연산하고 싶은 부분은 괄호로 표현\n",
        "print((5+3)*2)\n",
        "print(5+3*2)"
      ],
      "metadata": {
        "id": "l9QXC5C8tiJy",
        "colab": {
          "base_uri": "https://localhost:8080/"
        },
        "outputId": "bda798f5-b01a-45bb-a0ee-08fce6b20515"
      },
      "execution_count": 6,
      "outputs": [
        {
          "output_type": "stream",
          "name": "stdout",
          "text": [
            "16\n",
            "11\n"
          ]
        }
      ]
    },
    {
      "cell_type": "code",
      "source": [
        "# 연산자 우선순위가 확실한 경우에도 명확하게 표현하기 위해 괄호를 사용하기도 함\n",
        "print(5+(3*2))"
      ],
      "metadata": {
        "id": "3lZOLsbEtiMH",
        "colab": {
          "base_uri": "https://localhost:8080/"
        },
        "outputId": "f316ae73-2ad0-4613-8ec7-ba3eb76cb507"
      },
      "execution_count": 7,
      "outputs": [
        {
          "output_type": "stream",
          "name": "stdout",
          "text": [
            "11\n"
          ]
        }
      ]
    },
    {
      "cell_type": "markdown",
      "source": [
        "## 문자열 자료형(string)\n",
        "\n",
        "- 문자열 : 글자들이 나열된 것"
      ],
      "metadata": {
        "id": "IPKw4bCSYQ7r"
      }
    },
    {
      "cell_type": "code",
      "source": [
        "a=\"Hello, World!\"\n",
        "b=\"123\"\n",
        "\n",
        "print(a)\n",
        "print(type(a))\n",
        "print(b)\n",
        "print(type(b))"
      ],
      "metadata": {
        "colab": {
          "base_uri": "https://localhost:8080/"
        },
        "id": "kNTWtEpGX0_b",
        "outputId": "eedc1f57-3307-44c1-e9c9-b0ee3127b742"
      },
      "execution_count": 8,
      "outputs": [
        {
          "output_type": "stream",
          "name": "stdout",
          "text": [
            "Hello, World!\n",
            "<class 'str'>\n",
            "123\n",
            "<class 'str'>\n"
          ]
        }
      ]
    },
    {
      "cell_type": "code",
      "source": [
        "# 문자열 표기법\n",
        "print(\"Helllo\")\n",
        "print('Hello')\n",
        "print(\"\"\"Hello\"\"\")\n",
        "print('''Hello''')"
      ],
      "metadata": {
        "colab": {
          "base_uri": "https://localhost:8080/"
        },
        "id": "226dSnxUYN31",
        "outputId": "83bf65f4-25bd-474d-d615-56efadd45b43"
      },
      "execution_count": 9,
      "outputs": [
        {
          "output_type": "stream",
          "name": "stdout",
          "text": [
            "Helllo\n",
            "Hello\n",
            "Hello\n",
            "Hello\n"
          ]
        }
      ]
    },
    {
      "cell_type": "markdown",
      "source": [
        "### 문자열에 따옴표 함하기"
      ],
      "metadata": {
        "id": "Od0bV6ApYujo"
      }
    },
    {
      "cell_type": "code",
      "source": [
        "# 'Python's favorite food is perl'\n",
        "print(\"Python's favorite food is perl\")\n",
        "print('\"Python is very easy.\" he says')"
      ],
      "metadata": {
        "id": "Xx-xB2gpYN6L"
      },
      "execution_count": null,
      "outputs": []
    },
    {
      "cell_type": "markdown",
      "source": [
        "### 여러 줄인 문자열"
      ],
      "metadata": {
        "id": "q_Xmzc0KZRzU"
      }
    },
    {
      "cell_type": "code",
      "source": [
        "lines='''Life is too short\n",
        "You need python'''\n",
        "\n",
        "print(lines)"
      ],
      "metadata": {
        "colab": {
          "base_uri": "https://localhost:8080/"
        },
        "id": "Y-wmhyRgYN8h",
        "outputId": "10be6d84-3a3b-43c1-aaaf-b87a4d5b6e8e"
      },
      "execution_count": 10,
      "outputs": [
        {
          "output_type": "stream",
          "name": "stdout",
          "text": [
            "Life is too short\n",
            "You need python\n"
          ]
        }
      ]
    },
    {
      "cell_type": "markdown",
      "source": [
        "### 이스케이프 코드\n",
        "\n",
        "- 특별한 의미를 가지는 미리 정의된 문자 조합\n",
        "  - \\n : 줄바꿈\n",
        "  - \\t : 탭\n",
        "  - \\\\ : 역슬래시 문자열 입력"
      ],
      "metadata": {
        "id": "IvAJkWrLZdHo"
      }
    },
    {
      "cell_type": "code",
      "source": [
        "lines=\"Life is too short\\nYou need python\"\n",
        "print(lines)"
      ],
      "metadata": {
        "colab": {
          "base_uri": "https://localhost:8080/"
        },
        "id": "4WBIyyquYOKj",
        "outputId": "570ada16-cebf-46bc-e9eb-7eb50b0ea724"
      },
      "execution_count": 11,
      "outputs": [
        {
          "output_type": "stream",
          "name": "stdout",
          "text": [
            "Life is too short\n",
            "You need python\n"
          ]
        }
      ]
    },
    {
      "cell_type": "code",
      "source": [
        "print(\"안녕하세요\\t안녕하세요\")"
      ],
      "metadata": {
        "colab": {
          "base_uri": "https://localhost:8080/"
        },
        "id": "Rb-SSlPDYOMv",
        "outputId": "9c0c09d0-c8a8-4600-d121-7481c265cbc5"
      },
      "execution_count": 12,
      "outputs": [
        {
          "output_type": "stream",
          "name": "stdout",
          "text": [
            "안녕하세요\t안녕하세요\n"
          ]
        }
      ]
    },
    {
      "cell_type": "code",
      "source": [],
      "metadata": {
        "id": "ySDLuzjSYOPU"
      },
      "execution_count": null,
      "outputs": []
    },
    {
      "cell_type": "markdown",
      "source": [
        "## 문자열 연산자\n",
        "\n",
        "- 각각의 자료는 사용할 수 있는 연산자가 정해져 있음"
      ],
      "metadata": {
        "id": "ngUFxiGcaEc0"
      }
    },
    {
      "cell_type": "markdown",
      "source": [
        "### 문자열 연결 연산자\n",
        "\n",
        "- 두 문자열을 연결해서 새로운 문자열을 만들어냄"
      ],
      "metadata": {
        "id": "YvnT09kkaOIG"
      }
    },
    {
      "cell_type": "code",
      "source": [
        "# 문자열은 + 연산자로 문자열 연결 연산 적용\n",
        "# 숫자 더하기 연산자와 문자열 연결 연산자 모두 +기호를 사용하지만 완전히 다른 기능을 수행\n",
        "\"Hello, \"+ \"World!\""
      ],
      "metadata": {
        "colab": {
          "base_uri": "https://localhost:8080/",
          "height": 35
        },
        "id": "ksPdOJ3dYORs",
        "outputId": "6708b565-06c5-40d7-9750-f3d7911614ce"
      },
      "execution_count": 14,
      "outputs": [
        {
          "output_type": "execute_result",
          "data": {
            "text/plain": [
              "'Hello, World!'"
            ],
            "application/vnd.google.colaboratory.intrinsic+json": {
              "type": "string"
            }
          },
          "metadata": {},
          "execution_count": 14
        }
      ]
    },
    {
      "cell_type": "code",
      "source": [
        "# 문자열과 숫자 사이에 문자열 연결 연산자를 사용하면 에러 발생\n",
        "\"안녕하세요\"+1"
      ],
      "metadata": {
        "colab": {
          "base_uri": "https://localhost:8080/",
          "height": 165
        },
        "id": "YgXJPE2aYOUJ",
        "outputId": "ce2db027-82a4-4668-ef25-63be0431ff45"
      },
      "execution_count": 15,
      "outputs": [
        {
          "output_type": "error",
          "ename": "TypeError",
          "evalue": "can only concatenate str (not \"int\") to str",
          "traceback": [
            "\u001b[0;31m---------------------------------------------------------------------------\u001b[0m",
            "\u001b[0;31mTypeError\u001b[0m                                 Traceback (most recent call last)",
            "\u001b[0;32m<ipython-input-15-7794a3d9fd3a>\u001b[0m in \u001b[0;36m<cell line: 2>\u001b[0;34m()\u001b[0m\n\u001b[1;32m      1\u001b[0m \u001b[0;31m# 문자열과 숫자 사이에 문자열 연결 연산자를 사용하면 에러 발생\u001b[0m\u001b[0;34m\u001b[0m\u001b[0;34m\u001b[0m\u001b[0m\n\u001b[0;32m----> 2\u001b[0;31m \u001b[0;34m\"안녕하세요\"\u001b[0m\u001b[0;34m+\u001b[0m\u001b[0;36m1\u001b[0m\u001b[0;34m\u001b[0m\u001b[0;34m\u001b[0m\u001b[0m\n\u001b[0m",
            "\u001b[0;31mTypeError\u001b[0m: can only concatenate str (not \"int\") to str"
          ]
        }
      ]
    },
    {
      "cell_type": "code",
      "source": [
        "# 문자열과 숫자 사이에 문자열 연결 연산자를 사용하면 에러 발생\n",
        "print(\"안녕하세요\"+\"1\")"
      ],
      "metadata": {
        "colab": {
          "base_uri": "https://localhost:8080/"
        },
        "id": "a9W5swSAYOYz",
        "outputId": "ceea3e5c-7ed0-482d-970f-2db72eaa74ad"
      },
      "execution_count": 16,
      "outputs": [
        {
          "output_type": "stream",
          "name": "stdout",
          "text": [
            "안녕하세요1\n"
          ]
        }
      ]
    },
    {
      "cell_type": "markdown",
      "source": [
        "### 문자열 반복 얀산자\n",
        "\n",
        "- 문자열을 숫자와 * 연산자로 연결\n",
        "- 문자열을 숫자만큼 반복해서 출력"
      ],
      "metadata": {
        "id": "4a_fEIeJbc9F"
      }
    },
    {
      "cell_type": "code",
      "source": [
        "\"Hello\"*3"
      ],
      "metadata": {
        "colab": {
          "base_uri": "https://localhost:8080/",
          "height": 35
        },
        "id": "WoBpIdPJYObR",
        "outputId": "9e5a1a73-37e9-406d-d489-45b372ec457d"
      },
      "execution_count": 17,
      "outputs": [
        {
          "output_type": "execute_result",
          "data": {
            "text/plain": [
              "'HelloHelloHello'"
            ],
            "application/vnd.google.colaboratory.intrinsic+json": {
              "type": "string"
            }
          },
          "metadata": {},
          "execution_count": 17
        }
      ]
    },
    {
      "cell_type": "markdown",
      "source": [
        "### 문자열 인덱싱(Indexing)\n",
        "\n",
        "- 대괄호(문자 선택 연산자)는 문자열 내부의 문자 하나를 선택하는 연산자\n",
        "- 대괄호 안에 선택할 문자의 위치(인덱스(index))를 지정\n",
        "  - 파이썬은 인덱스를 0부터 셈"
      ],
      "metadata": {
        "id": "gVqyNJJlbr1O"
      }
    },
    {
      "cell_type": "code",
      "source": [
        "str1=\"Hello\"\n",
        "#     01234"
      ],
      "metadata": {
        "id": "0gyo7uoRYPO8"
      },
      "execution_count": 18,
      "outputs": []
    },
    {
      "cell_type": "code",
      "source": [
        "str1[0]"
      ],
      "metadata": {
        "colab": {
          "base_uri": "https://localhost:8080/",
          "height": 35
        },
        "id": "HEo3-LEQYPRR",
        "outputId": "9acfb05c-6752-4bf8-e6f0-43fd435ada75"
      },
      "execution_count": 19,
      "outputs": [
        {
          "output_type": "execute_result",
          "data": {
            "text/plain": [
              "'H'"
            ],
            "application/vnd.google.colaboratory.intrinsic+json": {
              "type": "string"
            }
          },
          "metadata": {},
          "execution_count": 19
        }
      ]
    },
    {
      "cell_type": "code",
      "source": [
        "str1[4]"
      ],
      "metadata": {
        "colab": {
          "base_uri": "https://localhost:8080/",
          "height": 35
        },
        "id": "mYvdUbgGYPTn",
        "outputId": "76a5fd4c-1350-41de-fc46-5f9265b9b12a"
      },
      "execution_count": 20,
      "outputs": [
        {
          "output_type": "execute_result",
          "data": {
            "text/plain": [
              "'o'"
            ],
            "application/vnd.google.colaboratory.intrinsic+json": {
              "type": "string"
            }
          },
          "metadata": {},
          "execution_count": 20
        }
      ]
    },
    {
      "cell_type": "code",
      "source": [
        "str1[-1]"
      ],
      "metadata": {
        "colab": {
          "base_uri": "https://localhost:8080/",
          "height": 35
        },
        "id": "KuCOjSrXYPVO",
        "outputId": "084e5810-c353-42a4-e436-5e747f6f15d1"
      },
      "execution_count": 21,
      "outputs": [
        {
          "output_type": "execute_result",
          "data": {
            "text/plain": [
              "'o'"
            ],
            "application/vnd.google.colaboratory.intrinsic+json": {
              "type": "string"
            }
          },
          "metadata": {},
          "execution_count": 21
        }
      ]
    },
    {
      "cell_type": "markdown",
      "source": [
        "### 문자열 슬라이싱(slicing)\n",
        "\n",
        "-  문자열의 범위를 지정\n",
        "- 대괄호 안에 위치를 콜론(:)으로 구분해서 지정\n",
        "  - 파이썬은 범위 지정시 마지막 숫자를 포함하지 않음"
      ],
      "metadata": {
        "id": "n68cm09ucNUd"
      }
    },
    {
      "cell_type": "code",
      "source": [
        "str1[0:4]"
      ],
      "metadata": {
        "colab": {
          "base_uri": "https://localhost:8080/",
          "height": 35
        },
        "id": "AzDxbUFycMPB",
        "outputId": "b560d062-a85d-49a1-8638-09f0b8930d3d"
      },
      "execution_count": 22,
      "outputs": [
        {
          "output_type": "execute_result",
          "data": {
            "text/plain": [
              "'Hell'"
            ],
            "application/vnd.google.colaboratory.intrinsic+json": {
              "type": "string"
            }
          },
          "metadata": {},
          "execution_count": 22
        }
      ]
    },
    {
      "cell_type": "code",
      "source": [
        "# 대괄호 안에 넣는 숫자들 중 하나를 생략할 수 있음\n",
        "# 생략하면 자동으로 가장 최대 위치(첫 번째 글자 또는 마지막 글자)까지 지정\n",
        "str1[:4]"
      ],
      "metadata": {
        "colab": {
          "base_uri": "https://localhost:8080/",
          "height": 35
        },
        "id": "ybAJ_zf3cevk",
        "outputId": "e322d12a-8345-4a7e-f8fd-0e00035a053d"
      },
      "execution_count": 23,
      "outputs": [
        {
          "output_type": "execute_result",
          "data": {
            "text/plain": [
              "'Hell'"
            ],
            "application/vnd.google.colaboratory.intrinsic+json": {
              "type": "string"
            }
          },
          "metadata": {},
          "execution_count": 23
        }
      ]
    },
    {
      "cell_type": "code",
      "source": [
        "str1[:-1]"
      ],
      "metadata": {
        "colab": {
          "base_uri": "https://localhost:8080/",
          "height": 35
        },
        "id": "XrJRHFZJcwtl",
        "outputId": "0d3dff17-40f9-41d4-dadf-18e36c884ed1"
      },
      "execution_count": 24,
      "outputs": [
        {
          "output_type": "execute_result",
          "data": {
            "text/plain": [
              "'Hell'"
            ],
            "application/vnd.google.colaboratory.intrinsic+json": {
              "type": "string"
            }
          },
          "metadata": {},
          "execution_count": 24
        }
      ]
    },
    {
      "cell_type": "code",
      "source": [
        "str1[1:5]"
      ],
      "metadata": {
        "id": "xX-AxjLCczRB"
      },
      "execution_count": null,
      "outputs": []
    },
    {
      "cell_type": "markdown",
      "source": [
        "## 문자열 포매팅(Formatting)"
      ],
      "metadata": {
        "id": "9_tYNBxTc4r_"
      }
    },
    {
      "cell_type": "code",
      "source": [
        "a=3\n",
        "b=4\n",
        "pi=3.141592\n",
        "\n",
        "# 문자열 포맷 코드\n",
        "print(\"%d + %d = %d\"%(a,b,a+b))"
      ],
      "metadata": {
        "colab": {
          "base_uri": "https://localhost:8080/"
        },
        "id": "E4WzvmpOc9Qv",
        "outputId": "27cee1c6-148e-4245-8d09-48ec617354c2"
      },
      "execution_count": 26,
      "outputs": [
        {
          "output_type": "stream",
          "name": "stdout",
          "text": [
            "3 + 4 = 7\n"
          ]
        }
      ]
    },
    {
      "cell_type": "code",
      "source": [
        "# format 함수\n",
        "print(\"{0} + {1} = {2}\".format(a,b,(a+b)))\n",
        "\n",
        "# 이름으로 값 넣기\n",
        "print(\"I ate {num} apples. so I was sick for {day} days\".format(num=10,day=3))"
      ],
      "metadata": {
        "colab": {
          "base_uri": "https://localhost:8080/"
        },
        "id": "_dg8UBVrdYx7",
        "outputId": "16edfef1-f12f-4295-efeb-41f94421a874"
      },
      "execution_count": 28,
      "outputs": [
        {
          "output_type": "stream",
          "name": "stdout",
          "text": [
            "3 + 4 = 7\n",
            "I ate 10 apples. so I was sick for 3 days\n"
          ]
        }
      ]
    },
    {
      "cell_type": "code",
      "source": [
        "# f-string\n",
        "print(f\"{a} + {b} = {a+b}\")"
      ],
      "metadata": {
        "colab": {
          "base_uri": "https://localhost:8080/"
        },
        "id": "rlpzaBQ5dYsP",
        "outputId": "2f78a864-ea9e-41e1-f3e9-2986fb34d28c"
      },
      "execution_count": 29,
      "outputs": [
        {
          "output_type": "stream",
          "name": "stdout",
          "text": [
            "3 + 4 = 7\n"
          ]
        }
      ]
    },
    {
      "cell_type": "markdown",
      "source": [
        "### 문자열 관련 함수"
      ],
      "metadata": {
        "id": "MPF3W-75fH3_"
      }
    },
    {
      "cell_type": "code",
      "source": [
        "str1=\"hobby\""
      ],
      "metadata": {
        "id": "c6liXVy4dYmc"
      },
      "execution_count": 30,
      "outputs": []
    },
    {
      "cell_type": "code",
      "source": [
        "# 문자 개수 세기\n",
        "str1.count(\"b\")"
      ],
      "metadata": {
        "colab": {
          "base_uri": "https://localhost:8080/"
        },
        "id": "oFzqoG0NdYhe",
        "outputId": "f64dba17-5c14-4242-cfc5-2f69dde14078"
      },
      "execution_count": 31,
      "outputs": [
        {
          "output_type": "execute_result",
          "data": {
            "text/plain": [
              "2"
            ]
          },
          "metadata": {},
          "execution_count": 31
        }
      ]
    },
    {
      "cell_type": "code",
      "source": [
        "# 위치 찾기1\n",
        "# 검색하는 문자가 처음으로 나온 위치 반환\n",
        "str1.find(\"b\")"
      ],
      "metadata": {
        "colab": {
          "base_uri": "https://localhost:8080/"
        },
        "id": "D6ciWdyQdYcb",
        "outputId": "11621705-f08b-4164-bca1-ce49f8c9cf35"
      },
      "execution_count": 32,
      "outputs": [
        {
          "output_type": "execute_result",
          "data": {
            "text/plain": [
              "2"
            ]
          },
          "metadata": {},
          "execution_count": 32
        }
      ]
    },
    {
      "cell_type": "code",
      "source": [
        "# 검색하는 문자가 존재하지 않는 경우 -1을 반환\n",
        "str1.find(\"a\")"
      ],
      "metadata": {
        "colab": {
          "base_uri": "https://localhost:8080/"
        },
        "id": "jNKU-KAudYXH",
        "outputId": "9207f734-a7e5-4334-8212-4417bfc1b00e"
      },
      "execution_count": 33,
      "outputs": [
        {
          "output_type": "execute_result",
          "data": {
            "text/plain": [
              "-1"
            ]
          },
          "metadata": {},
          "execution_count": 33
        }
      ]
    },
    {
      "cell_type": "code",
      "source": [
        "# 위치 찾기2\n",
        "str1.index(\"b\")"
      ],
      "metadata": {
        "colab": {
          "base_uri": "https://localhost:8080/"
        },
        "id": "aHxeBG9gdYRe",
        "outputId": "b25a9737-9b72-487c-ae14-0047516bf381"
      },
      "execution_count": 34,
      "outputs": [
        {
          "output_type": "execute_result",
          "data": {
            "text/plain": [
              "2"
            ]
          },
          "metadata": {},
          "execution_count": 34
        }
      ]
    },
    {
      "cell_type": "code",
      "source": [
        "# 검색하는 문자가 존재하지 않는 경우 에러 발생\n",
        "str1.index(\"a\")"
      ],
      "metadata": {
        "colab": {
          "base_uri": "https://localhost:8080/",
          "height": 165
        },
        "id": "1hrbMlaEdYMK",
        "outputId": "5c692731-4441-4dcf-edc0-8c5da27c0a59"
      },
      "execution_count": 35,
      "outputs": [
        {
          "output_type": "error",
          "ename": "ValueError",
          "evalue": "substring not found",
          "traceback": [
            "\u001b[0;31m---------------------------------------------------------------------------\u001b[0m",
            "\u001b[0;31mValueError\u001b[0m                                Traceback (most recent call last)",
            "\u001b[0;32m<ipython-input-35-4a555722a5f2>\u001b[0m in \u001b[0;36m<cell line: 2>\u001b[0;34m()\u001b[0m\n\u001b[1;32m      1\u001b[0m \u001b[0;31m# 검색하는 문자가 존재하지 않는 경우 에러 발생\u001b[0m\u001b[0;34m\u001b[0m\u001b[0;34m\u001b[0m\u001b[0m\n\u001b[0;32m----> 2\u001b[0;31m \u001b[0mstr1\u001b[0m\u001b[0;34m.\u001b[0m\u001b[0mindex\u001b[0m\u001b[0;34m(\u001b[0m\u001b[0;34m\"a\"\u001b[0m\u001b[0;34m)\u001b[0m\u001b[0;34m\u001b[0m\u001b[0;34m\u001b[0m\u001b[0m\n\u001b[0m",
            "\u001b[0;31mValueError\u001b[0m: substring not found"
          ]
        }
      ]
    },
    {
      "cell_type": "code",
      "source": [
        "# 대소문자 변환\n",
        "print(\"hello\".upper())\n",
        "print(\"HELLO\".lower())"
      ],
      "metadata": {
        "colab": {
          "base_uri": "https://localhost:8080/"
        },
        "id": "JFhEDtg6dYFj",
        "outputId": "66f10f65-05ee-4696-d812-2e044ebbdd01"
      },
      "execution_count": 36,
      "outputs": [
        {
          "output_type": "stream",
          "name": "stdout",
          "text": [
            "HELLO\n",
            "hello\n"
          ]
        }
      ]
    },
    {
      "cell_type": "code",
      "source": [
        "# 공백 제거\n",
        "\" hello \".strip()"
      ],
      "metadata": {
        "colab": {
          "base_uri": "https://localhost:8080/",
          "height": 35
        },
        "id": "GM1FuWeidX-G",
        "outputId": "86437436-cd58-43f4-da15-b3b29010211e"
      },
      "execution_count": 37,
      "outputs": [
        {
          "output_type": "execute_result",
          "data": {
            "text/plain": [
              "'hello'"
            ],
            "application/vnd.google.colaboratory.intrinsic+json": {
              "type": "string"
            }
          },
          "metadata": {},
          "execution_count": 37
        }
      ]
    },
    {
      "cell_type": "code",
      "source": [
        "# 문자열 치환\n",
        "str1=\"Pithon\"\n",
        "\n",
        "str1.replace(\"i\",\"y\")"
      ],
      "metadata": {
        "colab": {
          "base_uri": "https://localhost:8080/",
          "height": 35
        },
        "id": "8hAPRl4-dX36",
        "outputId": "03c32b8d-4efa-4c97-80e4-5a7ea6a3148a"
      },
      "execution_count": 38,
      "outputs": [
        {
          "output_type": "execute_result",
          "data": {
            "text/plain": [
              "'Python'"
            ],
            "application/vnd.google.colaboratory.intrinsic+json": {
              "type": "string"
            }
          },
          "metadata": {},
          "execution_count": 38
        }
      ]
    },
    {
      "cell_type": "code",
      "source": [
        "# 문자열 길이 구하기\n",
        "print(len(\"안녕하세요\"))"
      ],
      "metadata": {
        "colab": {
          "base_uri": "https://localhost:8080/"
        },
        "id": "P3KM1SqTdXxI",
        "outputId": "3e8d7cf3-7a5e-427c-bc7e-a992827812e6"
      },
      "execution_count": 39,
      "outputs": [
        {
          "output_type": "stream",
          "name": "stdout",
          "text": [
            "5\n"
          ]
        }
      ]
    },
    {
      "cell_type": "markdown",
      "source": [
        "## 불 자료형(Boolean)\n",
        "\n",
        "- 참(True)과 거짓(False)을 나타내는 자료형\n",
        "  - 어떤 명제의 결과를 표현\n",
        "- 불린 또는 불리언 이라는 발음으로 부름\n",
        "  - 프로그램밍에서는 짧게 Bool이라고 쓰기도 함"
      ],
      "metadata": {
        "id": "Wao7lb4jgZQZ"
      }
    },
    {
      "cell_type": "code",
      "source": [
        "a=True\n",
        "b=False\n",
        "\n",
        "print(a)\n",
        "print(type(a))\n",
        "print(b)\n",
        "print(type(b))"
      ],
      "metadata": {
        "colab": {
          "base_uri": "https://localhost:8080/"
        },
        "id": "mDHbu3CgdXqK",
        "outputId": "c1c8c347-b4b3-409c-b29f-c31630fc436d"
      },
      "execution_count": 40,
      "outputs": [
        {
          "output_type": "stream",
          "name": "stdout",
          "text": [
            "True\n",
            "<class 'bool'>\n",
            "False\n",
            "<class 'bool'>\n"
          ]
        }
      ]
    },
    {
      "cell_type": "markdown",
      "source": [
        "### 불 연산"
      ],
      "metadata": {
        "id": "JKJ1_z1wg3d9"
      }
    },
    {
      "cell_type": "markdown",
      "source": [
        "### 비교 연산자\n",
        "\n",
        "- == : 같다\n",
        "- != : 다르다\n",
        "- <, > : 크다, 작다\n",
        "- <=, >= : 크거나 같다, 작거나 같다"
      ],
      "metadata": {
        "id": "Xwq9kxErg4h8"
      }
    },
    {
      "cell_type": "code",
      "source": [
        "1==1"
      ],
      "metadata": {
        "colab": {
          "base_uri": "https://localhost:8080/"
        },
        "id": "C6_1kVCadXjJ",
        "outputId": "f8bde097-3a91-4bba-c59f-b75afdea2811"
      },
      "execution_count": 41,
      "outputs": [
        {
          "output_type": "execute_result",
          "data": {
            "text/plain": [
              "True"
            ]
          },
          "metadata": {},
          "execution_count": 41
        }
      ]
    },
    {
      "cell_type": "code",
      "source": [
        "1!=1"
      ],
      "metadata": {
        "colab": {
          "base_uri": "https://localhost:8080/"
        },
        "id": "zucLtYC6dXb7",
        "outputId": "e3f69700-706f-4798-c763-ec39933e68fc"
      },
      "execution_count": 42,
      "outputs": [
        {
          "output_type": "execute_result",
          "data": {
            "text/plain": [
              "False"
            ]
          },
          "metadata": {},
          "execution_count": 42
        }
      ]
    },
    {
      "cell_type": "code",
      "source": [
        "2>1"
      ],
      "metadata": {
        "colab": {
          "base_uri": "https://localhost:8080/"
        },
        "id": "bAkMgRvmdXOP",
        "outputId": "00c02112-e20f-49b5-8d3a-dbefe8ec982e"
      },
      "execution_count": 43,
      "outputs": [
        {
          "output_type": "execute_result",
          "data": {
            "text/plain": [
              "True"
            ]
          },
          "metadata": {},
          "execution_count": 43
        }
      ]
    },
    {
      "cell_type": "code",
      "source": [
        "2<1"
      ],
      "metadata": {
        "colab": {
          "base_uri": "https://localhost:8080/"
        },
        "id": "ed9k1IHadWPf",
        "outputId": "aa386ab1-c404-4a87-f2da-416d1e4c8a9b"
      },
      "execution_count": 44,
      "outputs": [
        {
          "output_type": "execute_result",
          "data": {
            "text/plain": [
              "False"
            ]
          },
          "metadata": {},
          "execution_count": 44
        }
      ]
    },
    {
      "cell_type": "code",
      "source": [
        "# 문자열에 비교 연산자를 적용하면 한글은 사전순서로 앞에 있는 것이 작은 값을 가짐\n",
        "print(\"가방\">\"하마\")\n",
        "print(\"가방\"<\"하마\")"
      ],
      "metadata": {
        "colab": {
          "base_uri": "https://localhost:8080/"
        },
        "id": "bFgTyvswdUb6",
        "outputId": "8e41d984-71a8-4ec4-dec5-85cb8e8b4944"
      },
      "execution_count": 45,
      "outputs": [
        {
          "output_type": "stream",
          "name": "stdout",
          "text": [
            "False\n",
            "True\n"
          ]
        }
      ]
    },
    {
      "cell_type": "markdown",
      "source": [
        "### 논리 연산자\n",
        "\n",
        "- not : 불에 반대로 치환\n",
        "- and : 두 값이 모두 참일 때 True를 출력하고, 그 외에는 모두 False를 출력\n",
        "- or : 두 값 중 하나만 참이어도 True를 출력하고, 두 개가 모두 거짓일 때만 False를 출력"
      ],
      "metadata": {
        "id": "BiEplLYuiEd-"
      }
    },
    {
      "cell_type": "code",
      "source": [
        "print(not True)\n",
        "print(not False)"
      ],
      "metadata": {
        "colab": {
          "base_uri": "https://localhost:8080/"
        },
        "id": "owJsxlTUiDHY",
        "outputId": "a9a6a129-fcfd-4213-e31d-da20f6b9c0a9"
      },
      "execution_count": 46,
      "outputs": [
        {
          "output_type": "stream",
          "name": "stdout",
          "text": [
            "False\n",
            "True\n"
          ]
        }
      ]
    },
    {
      "cell_type": "code",
      "source": [
        "print(True and True)\n",
        "print(True and False)\n",
        "print(False and True)\n",
        "print(False and False)"
      ],
      "metadata": {
        "colab": {
          "base_uri": "https://localhost:8080/"
        },
        "id": "hlDHbvaMiwbv",
        "outputId": "98234422-55a8-4aa1-bdc7-e55c403fda7f"
      },
      "execution_count": 47,
      "outputs": [
        {
          "output_type": "stream",
          "name": "stdout",
          "text": [
            "True\n",
            "False\n",
            "False\n",
            "False\n"
          ]
        }
      ]
    },
    {
      "cell_type": "code",
      "source": [
        "print(True or True)\n",
        "print(True or False)\n",
        "print(False or True)\n",
        "print(False or False)"
      ],
      "metadata": {
        "colab": {
          "base_uri": "https://localhost:8080/"
        },
        "id": "BL6df9AEjPal",
        "outputId": "7ff4f8a5-b3ec-445e-d34b-e63e83b16848"
      },
      "execution_count": 48,
      "outputs": [
        {
          "output_type": "stream",
          "name": "stdout",
          "text": [
            "True\n",
            "True\n",
            "True\n",
            "False\n"
          ]
        }
      ]
    },
    {
      "cell_type": "markdown",
      "source": [
        "# 연습 문제"
      ],
      "metadata": {
        "id": "RZz_mXwRjWYh"
      }
    },
    {
      "cell_type": "code",
      "source": [
        "# 1. 자연수가 홀수인지 짝수인지 판별하기\n",
        "\n",
        "num=13\n",
        "\n",
        "print(num%2==0)\n",
        "# True : 0\n",
        "# False : 1"
      ],
      "metadata": {
        "colab": {
          "base_uri": "https://localhost:8080/"
        },
        "id": "eDZrUck5jVnv",
        "outputId": "2cf34807-b175-4e74-dcdd-b43d8d6439a2"
      },
      "execution_count": 49,
      "outputs": [
        {
          "output_type": "stream",
          "name": "stdout",
          "text": [
            "False\n"
          ]
        }
      ]
    },
    {
      "cell_type": "code",
      "source": [
        "# 2. 주민등록번호에서 생년월일, 성별 추출하기\n",
        "hong=\"881120-1068234\"\n",
        "\n",
        "print(hong[:6])\n",
        "print(hong[7])"
      ],
      "metadata": {
        "colab": {
          "base_uri": "https://localhost:8080/"
        },
        "id": "O7hFnMdIkkBM",
        "outputId": "5774d2c2-45ee-4282-97f9-b3d58342a35d"
      },
      "execution_count": 50,
      "outputs": [
        {
          "output_type": "stream",
          "name": "stdout",
          "text": [
            "881120\n",
            "1\n"
          ]
        }
      ]
    }
  ]
}