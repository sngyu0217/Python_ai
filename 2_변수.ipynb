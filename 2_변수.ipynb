{
  "nbformat": 4,
  "nbformat_minor": 0,
  "metadata": {
    "colab": {
      "provenance": [],
      "authorship_tag": "ABX9TyP41+3y/gnOiSwgBnJOxT8s",
      "include_colab_link": true
    },
    "kernelspec": {
      "name": "python3",
      "display_name": "Python 3"
    },
    "language_info": {
      "name": "python"
    }
  },
  "cells": [
    {
      "cell_type": "markdown",
      "metadata": {
        "id": "view-in-github",
        "colab_type": "text"
      },
      "source": [
        "<a href=\"https://colab.research.google.com/github/sngyu0217/Python_ai/blob/main/2_%EB%B3%80%EC%88%98.ipynb\" target=\"_parent\"><img src=\"https://colab.research.google.com/assets/colab-badge.svg\" alt=\"Open In Colab\"/></a>"
      ]
    },
    {
      "cell_type": "markdown",
      "source": [
        "# 변수\n",
        "\n",
        "- 변할 수 있는 자료\n",
        "- 값을 저장할 때 사용\n",
        "  - 모든 자료형의 값을 저장할 수 있음"
      ],
      "metadata": {
        "id": "k47rdSqP0zDp"
      }
    },
    {
      "cell_type": "code",
      "source": [
        "pi=3.14159265\n",
        "pi"
      ],
      "metadata": {
        "colab": {
          "base_uri": "https://localhost:8080/"
        },
        "id": "wjDTdUIR09m5",
        "outputId": "4b6fe208-7054-4bb7-f63b-835155ff8e84"
      },
      "execution_count": 1,
      "outputs": [
        {
          "output_type": "execute_result",
          "data": {
            "text/plain": [
              "3.14159265"
            ]
          },
          "metadata": {},
          "execution_count": 1
        }
      ]
    },
    {
      "cell_type": "markdown",
      "source": [
        "## 변수 활용 방법\n",
        "\n",
        "- 변수를 선언\n",
        "  - 변수를 생성하는 것\n",
        "\n",
        "- 변수에 값을 할당\n",
        "  - 변수에 값을 넣는 것\n",
        "    - =기호는 우변의 값을 좌변에 할당하겠다는 의미\n",
        "\n",
        "- 변수를 참조\n",
        "  - 변수에서 값을 꺼내는 것"
      ],
      "metadata": {
        "id": "HvBlA8CZ0zLQ"
      }
    },
    {
      "cell_type": "markdown",
      "source": [],
      "metadata": {
        "id": "zCfvRMD-083r"
      }
    },
    {
      "cell_type": "code",
      "source": [
        "pi+2"
      ],
      "metadata": {
        "colab": {
          "base_uri": "https://localhost:8080/"
        },
        "id": "T3zSRlFI1XkC",
        "outputId": "a3376dbe-ace5-45af-d9fe-5244d0d9b659"
      },
      "execution_count": 4,
      "outputs": [
        {
          "output_type": "execute_result",
          "data": {
            "text/plain": [
              "5.14159265"
            ]
          },
          "metadata": {},
          "execution_count": 4
        }
      ]
    },
    {
      "cell_type": "code",
      "source": [
        "pi"
      ],
      "metadata": {
        "colab": {
          "base_uri": "https://localhost:8080/"
        },
        "id": "7wniYwB91b3O",
        "outputId": "13af3d4e-1813-4ab6-be65-99a49f39d187"
      },
      "execution_count": 5,
      "outputs": [
        {
          "output_type": "execute_result",
          "data": {
            "text/plain": [
              "3.14159265"
            ]
          },
          "metadata": {},
          "execution_count": 5
        }
      ]
    },
    {
      "cell_type": "markdown",
      "source": [
        "# 복합 대입 연산자\n",
        "\n",
        "- 자료형에 적용하는 기본 연산자와 = 연산자를 함께 사용해 구성하는 연산자\n",
        "  - += : 숫자 덧셈 후 대입\n",
        "  - -= : 숫자 뺄셈 후 대입\n",
        "  - *= : 숫자 곱셈 후 대입\n",
        "  - /= : 숫자 나눗셈 후 대입\n",
        "\n",
        "- 예) a+=10은 a=a+10과 같은 결과"
      ],
      "metadata": {
        "id": "1MW4Rzls0zNl"
      }
    },
    {
      "cell_type": "code",
      "source": [
        "number=100 #100\n",
        "number+=10 #110\n",
        "number+=20 #130\n",
        "number+=30 #160\n",
        "print(number)"
      ],
      "metadata": {
        "colab": {
          "base_uri": "https://localhost:8080/"
        },
        "id": "gvnik3TF2ZrL",
        "outputId": "87b64955-9739-494b-b6b6-7db1333fe371"
      },
      "execution_count": 6,
      "outputs": [
        {
          "output_type": "stream",
          "name": "stdout",
          "text": [
            "160\n"
          ]
        }
      ]
    },
    {
      "cell_type": "code",
      "source": [
        "# 문자열 복합 대입 연산자\n",
        "str1=\"안녕하세요\" # 안녕하세요\n",
        "str1+=\"!\" # 안녕하세요!\n",
        "str1+=\"!\" # 안녕하세요!!\n",
        "print(str1)"
      ],
      "metadata": {
        "colab": {
          "base_uri": "https://localhost:8080/"
        },
        "id": "3xcIv9Nr2q1l",
        "outputId": "fcf7dee5-e038-403f-a359-17948e005712"
      },
      "execution_count": 7,
      "outputs": [
        {
          "output_type": "stream",
          "name": "stdout",
          "text": [
            "안녕하세요!!\n"
          ]
        }
      ]
    },
    {
      "cell_type": "markdown",
      "source": [
        "# 자료형 변환"
      ],
      "metadata": {
        "id": "cqC6yb6J0zP7"
      }
    },
    {
      "cell_type": "markdown",
      "source": [
        "## 문자열을 숫자로 바꾸기\n",
        "\n",
        "- int() : 문자열을 int 자료형으로 변환\n",
        "- float() : 문자열은 float 자료형으로 변환"
      ],
      "metadata": {
        "id": "16D81Il80zSY"
      }
    },
    {
      "cell_type": "code",
      "source": [
        "str_a=\"273\"\n",
        "int_a=int(str_a)\n",
        "\n",
        "str_b=\"52\"\n",
        "int_b=int(str_b)\n",
        "\n",
        "print(\"문자열 자료 :\",str_a+str_b)\n",
        "print(\"숫자 자료 :\", int_a+int_b)"
      ],
      "metadata": {
        "colab": {
          "base_uri": "https://localhost:8080/"
        },
        "id": "EOY5JCEq3m0k",
        "outputId": "b8bab159-a459-4364-c8ca-51159a90c904"
      },
      "execution_count": 8,
      "outputs": [
        {
          "output_type": "stream",
          "name": "stdout",
          "text": [
            "문자열 자료 : 27352\n",
            "숫자 자료 : 325\n"
          ]
        }
      ]
    },
    {
      "cell_type": "code",
      "source": [
        "output_a=int(\"52\")\n",
        "output_b=float(\"52.73\")\n",
        "\n",
        "print(type(output_a),output_a)\n",
        "print(type(output_b),output_b)"
      ],
      "metadata": {
        "colab": {
          "base_uri": "https://localhost:8080/"
        },
        "id": "t-WMCU5H4iUZ",
        "outputId": "5f7393b8-1a25-4a45-fc23-4d85e8e3cb07"
      },
      "execution_count": 9,
      "outputs": [
        {
          "output_type": "stream",
          "name": "stdout",
          "text": [
            "<class 'int'> 52\n",
            "<class 'float'> 52.73\n"
          ]
        }
      ]
    },
    {
      "cell_type": "code",
      "source": [
        "input_a=float(\"273\")\n",
        "input_b=float(\"52\")\n",
        "\n",
        "print(input_a+input_b)"
      ],
      "metadata": {
        "colab": {
          "base_uri": "https://localhost:8080/"
        },
        "id": "h43Jvpx55QFZ",
        "outputId": "1c316e39-f889-411e-c1cc-101de786af0c"
      },
      "execution_count": 10,
      "outputs": [
        {
          "output_type": "stream",
          "name": "stdout",
          "text": [
            "325.0\n"
          ]
        }
      ]
    },
    {
      "cell_type": "markdown",
      "source": [
        "- 자료형을 변환할 때 '변환할 수 없는 것'을 변환하려고 하면 ValueError 예외가 발생\n",
        "  - 숫자가 아닌 것을 숫자로 변환하려고 할 때\n",
        "  - 소수점이 있는 숫자의 형식의 문자열을 int() 함수로 변환하려고 할 때"
      ],
      "metadata": {
        "id": "pVjzqjX_0zW9"
      }
    },
    {
      "cell_type": "code",
      "source": [
        "# 문자열은 숫자로 변환할 수 없음\n",
        "int(\"안녕하세요\")"
      ],
      "metadata": {
        "colab": {
          "base_uri": "https://localhost:8080/",
          "height": 165
        },
        "id": "BPSCI1WM6_W9",
        "outputId": "c6643a97-51ea-4755-f97a-933867d0219a"
      },
      "execution_count": 11,
      "outputs": [
        {
          "output_type": "error",
          "ename": "ValueError",
          "evalue": "invalid literal for int() with base 10: '안녕하세요'",
          "traceback": [
            "\u001b[0;31m---------------------------------------------------------------------------\u001b[0m",
            "\u001b[0;31mValueError\u001b[0m                                Traceback (most recent call last)",
            "\u001b[0;32m<ipython-input-11-37a604554609>\u001b[0m in \u001b[0;36m<cell line: 2>\u001b[0;34m()\u001b[0m\n\u001b[1;32m      1\u001b[0m \u001b[0;31m# 문자열은 숫자로 변환할 수 없음\u001b[0m\u001b[0;34m\u001b[0m\u001b[0;34m\u001b[0m\u001b[0m\n\u001b[0;32m----> 2\u001b[0;31m \u001b[0mint\u001b[0m\u001b[0;34m(\u001b[0m\u001b[0;34m\"안녕하세요\"\u001b[0m\u001b[0;34m)\u001b[0m\u001b[0;34m\u001b[0m\u001b[0;34m\u001b[0m\u001b[0m\n\u001b[0m",
            "\u001b[0;31mValueError\u001b[0m: invalid literal for int() with base 10: '안녕하세요'"
          ]
        }
      ]
    },
    {
      "cell_type": "code",
      "source": [
        "# 부동소수점이 있는 자료를 정수형으로 바꿀 수 없음\n",
        "int(\"52.273\")"
      ],
      "metadata": {
        "colab": {
          "base_uri": "https://localhost:8080/",
          "height": 165
        },
        "id": "VXSzkHdB7AfI",
        "outputId": "fb5e0713-5400-4604-c7b3-e77def86d85c"
      },
      "execution_count": 12,
      "outputs": [
        {
          "output_type": "error",
          "ename": "ValueError",
          "evalue": "invalid literal for int() with base 10: '52.273'",
          "traceback": [
            "\u001b[0;31m---------------------------------------------------------------------------\u001b[0m",
            "\u001b[0;31mValueError\u001b[0m                                Traceback (most recent call last)",
            "\u001b[0;32m<ipython-input-12-4650459b63c3>\u001b[0m in \u001b[0;36m<cell line: 2>\u001b[0;34m()\u001b[0m\n\u001b[1;32m      1\u001b[0m \u001b[0;31m# 부동소수점이 있는 자료를 정수형으로 바꿀 수 없음\u001b[0m\u001b[0;34m\u001b[0m\u001b[0;34m\u001b[0m\u001b[0m\n\u001b[0;32m----> 2\u001b[0;31m \u001b[0mint\u001b[0m\u001b[0;34m(\u001b[0m\u001b[0;34m\"52.273\"\u001b[0m\u001b[0;34m)\u001b[0m\u001b[0;34m\u001b[0m\u001b[0;34m\u001b[0m\u001b[0m\n\u001b[0m",
            "\u001b[0;31mValueError\u001b[0m: invalid literal for int() with base 10: '52.273'"
          ]
        }
      ]
    },
    {
      "cell_type": "code",
      "source": [
        "int(\"52.0\")"
      ],
      "metadata": {
        "colab": {
          "base_uri": "https://localhost:8080/",
          "height": 146
        },
        "id": "zpPhLvTK7IvB",
        "outputId": "b060488c-f1bd-4222-b1b3-0f4fd1dfa583"
      },
      "execution_count": 13,
      "outputs": [
        {
          "output_type": "error",
          "ename": "ValueError",
          "evalue": "invalid literal for int() with base 10: '52.0'",
          "traceback": [
            "\u001b[0;31m---------------------------------------------------------------------------\u001b[0m",
            "\u001b[0;31mValueError\u001b[0m                                Traceback (most recent call last)",
            "\u001b[0;32m<ipython-input-13-ca53099c9633>\u001b[0m in \u001b[0;36m<cell line: 1>\u001b[0;34m()\u001b[0m\n\u001b[0;32m----> 1\u001b[0;31m \u001b[0mint\u001b[0m\u001b[0;34m(\u001b[0m\u001b[0;34m\"52.0\"\u001b[0m\u001b[0;34m)\u001b[0m\u001b[0;34m\u001b[0m\u001b[0;34m\u001b[0m\u001b[0m\n\u001b[0m",
            "\u001b[0;31mValueError\u001b[0m: invalid literal for int() with base 10: '52.0'"
          ]
        }
      ]
    },
    {
      "cell_type": "code",
      "source": [
        "float(\"52.273\")"
      ],
      "metadata": {
        "colab": {
          "base_uri": "https://localhost:8080/"
        },
        "id": "KBuR-btX7dvN",
        "outputId": "78413fae-8fc2-44b4-c62f-1403b4385f0d"
      },
      "execution_count": 14,
      "outputs": [
        {
          "output_type": "execute_result",
          "data": {
            "text/plain": [
              "52.273"
            ]
          },
          "metadata": {},
          "execution_count": 14
        }
      ]
    },
    {
      "cell_type": "markdown",
      "source": [
        "## 숫자를 문자열로 바꾸기\n",
        "\n",
        "- str() : 다른 자료형을 문자열로 변환"
      ],
      "metadata": {
        "id": "uwO0hN-t0zZJ"
      }
    },
    {
      "cell_type": "code",
      "source": [
        "output_a=str(52)\n",
        "output_b=str(52.273)\n",
        "\n",
        "print(type(output_a),output_a)\n",
        "print(type(output_b),output_b)"
      ],
      "metadata": {
        "colab": {
          "base_uri": "https://localhost:8080/"
        },
        "id": "lMHIN0rG7r_L",
        "outputId": "e30cea7b-7333-4252-b555-506de2e23be8"
      },
      "execution_count": 15,
      "outputs": [
        {
          "output_type": "stream",
          "name": "stdout",
          "text": [
            "<class 'str'> 52\n",
            "<class 'str'> 52.273\n"
          ]
        }
      ]
    },
    {
      "cell_type": "markdown",
      "source": [],
      "metadata": {
        "id": "8-_Wovo10zbX"
      }
    },
    {
      "cell_type": "markdown",
      "source": [],
      "metadata": {
        "id": "xIpM3cBs0zdv"
      }
    }
  ]
}