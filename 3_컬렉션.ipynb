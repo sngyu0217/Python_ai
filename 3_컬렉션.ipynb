{
  "nbformat": 4,
  "nbformat_minor": 0,
  "metadata": {
    "colab": {
      "provenance": [],
      "authorship_tag": "ABX9TyP2rQb1AxGKQJ6eTT0DIAJP",
      "include_colab_link": true
    },
    "kernelspec": {
      "name": "python3",
      "display_name": "Python 3"
    },
    "language_info": {
      "name": "python"
    }
  },
  "cells": [
    {
      "cell_type": "markdown",
      "metadata": {
        "id": "view-in-github",
        "colab_type": "text"
      },
      "source": [
        "<a href=\"https://colab.research.google.com/github/sngyu0217/Python_ai/blob/main/3_%EC%BB%AC%EB%A0%89%EC%85%98.ipynb\" target=\"_parent\"><img src=\"https://colab.research.google.com/assets/colab-badge.svg\" alt=\"Open In Colab\"/></a>"
      ]
    },
    {
      "cell_type": "markdown",
      "source": [
        "# 컬렉션\n",
        "\n",
        "- 여러 값을 하나의 이름으로 묶어서 관리하는 자료\n",
        "\n",
        "- :-- = 왼쪽 정렬\n",
        "- :--: = 가운데 정렬\n",
        "- --: = 오른쪽 정렬\n",
        "\n",
        "![스크린샷 2024-05-08 203743.png](data:image/png;base64,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)\n",
        "\n",
        "\n"
      ],
      "metadata": {
        "id": "Fk10Q9c_9yt6"
      }
    },
    {
      "cell_type": "markdown",
      "source": [
        "# 리스트(list)\n",
        "\n",
        "- 여러 가지 자료를 저장할 수 있는 자료\n",
        "  - 지금까지 활용한 숫자나 문자, 수식 등이 개별적인 자료라면, 리스트는 이런 자료들을 모아서 사용할 수 있게 해주는 특별한 형태의 자료\n",
        "  - [요소, 요소, 요소...]\n",
        "  - 대괄호 내부에 넣는 자료를 요소(element)라고 함"
      ],
      "metadata": {
        "id": "-s9V4g2LACgM"
      }
    },
    {
      "cell_type": "code",
      "source": [
        "# 숫자만으로 구성된 리스트\n",
        "list_num=[1,2,3,4]\n",
        "\n",
        "# 문자열만으로 구성된 리스트\n",
        "list_str=[\"a\",\"b\",\"c\"]\n",
        "\n",
        "# 여러 자료형으로 구성된 리스트\n",
        "list_mix=[273,32,103,\"문자열\",True,False]"
      ],
      "metadata": {
        "id": "4ItfNmLRAa1T"
      },
      "execution_count": 1,
      "outputs": []
    },
    {
      "cell_type": "code",
      "source": [
        "# 인덱싱, 슬라이싱\n",
        "list_num[0]"
      ],
      "metadata": {
        "colab": {
          "base_uri": "https://localhost:8080/"
        },
        "id": "sqBXhrDQ-3yO",
        "outputId": "f60ececf-01fc-4dc0-c188-986a52695db2"
      },
      "execution_count": 2,
      "outputs": [
        {
          "output_type": "execute_result",
          "data": {
            "text/plain": [
              "1"
            ]
          },
          "metadata": {},
          "execution_count": 2
        }
      ]
    },
    {
      "cell_type": "code",
      "source": [
        "list_num[-1]"
      ],
      "metadata": {
        "colab": {
          "base_uri": "https://localhost:8080/"
        },
        "id": "8KM6Bc4Y_hJH",
        "outputId": "6b46a34b-f369-4572-f3f6-6671b209344e"
      },
      "execution_count": 3,
      "outputs": [
        {
          "output_type": "execute_result",
          "data": {
            "text/plain": [
              "4"
            ]
          },
          "metadata": {},
          "execution_count": 3
        }
      ]
    },
    {
      "cell_type": "code",
      "execution_count": 4,
      "metadata": {
        "id": "2DAgEGJH9tb2"
      },
      "outputs": [],
      "source": [
        "# 이중 리스트\n",
        "li=[1,2,3,[\"a\",\"b\",\"c\"]]"
      ]
    },
    {
      "cell_type": "code",
      "source": [
        "li[-1]"
      ],
      "metadata": {
        "colab": {
          "base_uri": "https://localhost:8080/"
        },
        "id": "brIpBtiQA9S7",
        "outputId": "f4852696-23ba-4125-bedf-039521df85c1"
      },
      "execution_count": 5,
      "outputs": [
        {
          "output_type": "execute_result",
          "data": {
            "text/plain": [
              "['a', 'b', 'c']"
            ]
          },
          "metadata": {},
          "execution_count": 5
        }
      ]
    },
    {
      "cell_type": "code",
      "source": [
        "li[-1][-1]"
      ],
      "metadata": {
        "colab": {
          "base_uri": "https://localhost:8080/",
          "height": 35
        },
        "id": "Up8gGchoA-wc",
        "outputId": "2637359d-b597-4f8a-bf48-4409fba878d4"
      },
      "execution_count": 6,
      "outputs": [
        {
          "output_type": "execute_result",
          "data": {
            "text/plain": [
              "'c'"
            ],
            "application/vnd.google.colaboratory.intrinsic+json": {
              "type": "string"
            }
          },
          "metadata": {},
          "execution_count": 6
        }
      ]
    },
    {
      "cell_type": "code",
      "source": [
        "li[:3]"
      ],
      "metadata": {
        "colab": {
          "base_uri": "https://localhost:8080/"
        },
        "id": "qs8o4UfoBBd_",
        "outputId": "65fcfd7f-1f2a-4fa8-91c9-263641badeac"
      },
      "execution_count": 7,
      "outputs": [
        {
          "output_type": "execute_result",
          "data": {
            "text/plain": [
              "[1, 2, 3]"
            ]
          },
          "metadata": {},
          "execution_count": 7
        }
      ]
    },
    {
      "cell_type": "markdown",
      "source": [
        "## 리스트 연산\n",
        "\n",
        "- 문자열에 적용할 수 있는 연산자는 리스트에도 활용할 수 있음"
      ],
      "metadata": {
        "id": "iH9n_SPkBE4A"
      }
    },
    {
      "cell_type": "code",
      "source": [
        "# 리스트 병합\n",
        "a=[1,2,3]\n",
        "b=[4,5,6]\n",
        "\n",
        "print(a+b)"
      ],
      "metadata": {
        "colab": {
          "base_uri": "https://localhost:8080/"
        },
        "id": "5gEH2GRcBC-y",
        "outputId": "ea2a81fe-057d-459d-e22b-1c305c6b396d"
      },
      "execution_count": 8,
      "outputs": [
        {
          "output_type": "stream",
          "name": "stdout",
          "text": [
            "[1, 2, 3, 4, 5, 6]\n"
          ]
        }
      ]
    },
    {
      "cell_type": "code",
      "source": [
        "# 리스트 반복\n",
        "print(a*2)"
      ],
      "metadata": {
        "colab": {
          "base_uri": "https://localhost:8080/"
        },
        "id": "ireypw6dBQWm",
        "outputId": "6b895a4e-291e-40b1-9c6f-e56f9f120550"
      },
      "execution_count": 9,
      "outputs": [
        {
          "output_type": "stream",
          "name": "stdout",
          "text": [
            "[1, 2, 3, 1, 2, 3]\n"
          ]
        }
      ]
    },
    {
      "cell_type": "markdown",
      "source": [
        "## 리스트 수정, 삭제"
      ],
      "metadata": {
        "id": "vrhMtsybBVNz"
      }
    },
    {
      "cell_type": "code",
      "source": [
        "li"
      ],
      "metadata": {
        "colab": {
          "base_uri": "https://localhost:8080/"
        },
        "id": "hIbKwKlxBUJC",
        "outputId": "c7677e87-a649-439c-8215-bcaa0ec8c528"
      },
      "execution_count": 10,
      "outputs": [
        {
          "output_type": "execute_result",
          "data": {
            "text/plain": [
              "[1, 2, 3, ['a', 'b', 'c']]"
            ]
          },
          "metadata": {},
          "execution_count": 10
        }
      ]
    },
    {
      "cell_type": "code",
      "source": [
        "# 요소를 인덱스로 삭제\n",
        "del li[-1]"
      ],
      "metadata": {
        "id": "iDtINU5pBY4r"
      },
      "execution_count": 11,
      "outputs": []
    },
    {
      "cell_type": "code",
      "source": [
        "li"
      ],
      "metadata": {
        "colab": {
          "base_uri": "https://localhost:8080/"
        },
        "id": "21ibuTW0BcoR",
        "outputId": "946f2da6-afd4-4b4b-8c2b-de255e2a4ca2"
      },
      "execution_count": 12,
      "outputs": [
        {
          "output_type": "execute_result",
          "data": {
            "text/plain": [
              "[1, 2, 3]"
            ]
          },
          "metadata": {},
          "execution_count": 12
        }
      ]
    },
    {
      "cell_type": "code",
      "source": [
        "# 수정\n",
        "li[2]=4"
      ],
      "metadata": {
        "id": "s_qhcS9zBdYX"
      },
      "execution_count": 13,
      "outputs": []
    },
    {
      "cell_type": "code",
      "source": [
        "li"
      ],
      "metadata": {
        "colab": {
          "base_uri": "https://localhost:8080/"
        },
        "id": "yqDAXlTuBgAH",
        "outputId": "0cdf4d87-9763-4a47-fe3b-5569debc0b42"
      },
      "execution_count": 14,
      "outputs": [
        {
          "output_type": "execute_result",
          "data": {
            "text/plain": [
              "[1, 2, 4]"
            ]
          },
          "metadata": {},
          "execution_count": 14
        }
      ]
    },
    {
      "cell_type": "code",
      "source": [
        "# remove 함수를 이용한 삭제\n",
        "li.remove(4)"
      ],
      "metadata": {
        "id": "RzeJ9HRLBgqL"
      },
      "execution_count": 16,
      "outputs": []
    },
    {
      "cell_type": "code",
      "source": [
        "li"
      ],
      "metadata": {
        "colab": {
          "base_uri": "https://localhost:8080/"
        },
        "id": "8wYAUez-Bnjk",
        "outputId": "67f72273-be65-4e89-d8bc-f89d4278ea09"
      },
      "execution_count": 17,
      "outputs": [
        {
          "output_type": "execute_result",
          "data": {
            "text/plain": [
              "[1, 2]"
            ]
          },
          "metadata": {},
          "execution_count": 17
        }
      ]
    },
    {
      "cell_type": "code",
      "source": [
        "# remove 함수는 리스트에서 첫 번쨰로 나오는 특정 요소를 삭제하는 함수\n",
        "li=[1,2,3,1,2,3]\n",
        "\n",
        "li.remove(3)\n",
        "\n",
        "li"
      ],
      "metadata": {
        "colab": {
          "base_uri": "https://localhost:8080/"
        },
        "id": "4THIXu7EBpjk",
        "outputId": "38f1270a-0ad1-4be4-d2c6-2eab7fa5c258"
      },
      "execution_count": 18,
      "outputs": [
        {
          "output_type": "execute_result",
          "data": {
            "text/plain": [
              "[1, 2, 1, 2, 3]"
            ]
          },
          "metadata": {},
          "execution_count": 18
        }
      ]
    },
    {
      "cell_type": "code",
      "source": [
        "# pop 함수를 이용한 삭제\n",
        "# 제거할 위치를 입력하지 않으면 기본값(-1)을 적용해서\n",
        "# 리스트의 맨 마지막 요소를 반환하고 해당 요소를 삭제\n",
        "li=[1,2,3]\n",
        "li.pop()"
      ],
      "metadata": {
        "colab": {
          "base_uri": "https://localhost:8080/"
        },
        "id": "XsXWPKDdB0Jy",
        "outputId": "c02dd760-89fc-4311-869b-1121bd9754ac"
      },
      "execution_count": 19,
      "outputs": [
        {
          "output_type": "execute_result",
          "data": {
            "text/plain": [
              "3"
            ]
          },
          "metadata": {},
          "execution_count": 19
        }
      ]
    },
    {
      "cell_type": "code",
      "source": [
        "li"
      ],
      "metadata": {
        "colab": {
          "base_uri": "https://localhost:8080/"
        },
        "id": "h7NNURUuCCDU",
        "outputId": "2251aef8-b31b-4d13-a741-f9f3e8e75ef6"
      },
      "execution_count": 20,
      "outputs": [
        {
          "output_type": "execute_result",
          "data": {
            "text/plain": [
              "[1, 2]"
            ]
          },
          "metadata": {},
          "execution_count": 20
        }
      ]
    },
    {
      "cell_type": "code",
      "source": [
        "# 특정 인덱스의 요소를 반환하는 것도 가능\n",
        "li=[1,2,3]\n",
        "\n",
        "li.pop(1)"
      ],
      "metadata": {
        "colab": {
          "base_uri": "https://localhost:8080/"
        },
        "id": "3Ia6rRopCDKf",
        "outputId": "03dca6c7-46fe-4e70-be47-82371c097600"
      },
      "execution_count": 21,
      "outputs": [
        {
          "output_type": "execute_result",
          "data": {
            "text/plain": [
              "2"
            ]
          },
          "metadata": {},
          "execution_count": 21
        }
      ]
    },
    {
      "cell_type": "code",
      "source": [
        "li"
      ],
      "metadata": {
        "colab": {
          "base_uri": "https://localhost:8080/"
        },
        "id": "RstZj8q0CJ_9",
        "outputId": "13d1f770-7447-4c2b-d73c-56f0f9c7028e"
      },
      "execution_count": 22,
      "outputs": [
        {
          "output_type": "execute_result",
          "data": {
            "text/plain": [
              "[1, 3]"
            ]
          },
          "metadata": {},
          "execution_count": 22
        }
      ]
    },
    {
      "cell_type": "markdown",
      "source": [
        "## 리스트 관련 함수"
      ],
      "metadata": {
        "id": "OVnNj5QRCNgh"
      }
    },
    {
      "cell_type": "code",
      "source": [
        "# 요소 추가\n",
        "# 리스트 뒤에 요소를 추가\n",
        "li.append(5)"
      ],
      "metadata": {
        "id": "j9H4l8SCCKct"
      },
      "execution_count": 23,
      "outputs": []
    },
    {
      "cell_type": "code",
      "source": [
        "li"
      ],
      "metadata": {
        "colab": {
          "base_uri": "https://localhost:8080/"
        },
        "id": "6tHsZe7oCVDf",
        "outputId": "c1d0ba46-e855-41dc-97c9-0b0609e98f1b"
      },
      "execution_count": 24,
      "outputs": [
        {
          "output_type": "execute_result",
          "data": {
            "text/plain": [
              "[1, 3, 5]"
            ]
          },
          "metadata": {},
          "execution_count": 24
        }
      ]
    },
    {
      "cell_type": "code",
      "source": [
        "li.append([1,2,3])"
      ],
      "metadata": {
        "id": "4Qw-m4oTCVhx"
      },
      "execution_count": 25,
      "outputs": []
    },
    {
      "cell_type": "code",
      "source": [
        "li"
      ],
      "metadata": {
        "colab": {
          "base_uri": "https://localhost:8080/"
        },
        "id": "3A4KHOYoCYLe",
        "outputId": "e7d03248-1d34-4d71-fc16-601176e5b406"
      },
      "execution_count": 26,
      "outputs": [
        {
          "output_type": "execute_result",
          "data": {
            "text/plain": [
              "[1, 3, 5, [1, 2, 3]]"
            ]
          },
          "metadata": {},
          "execution_count": 26
        }
      ]
    },
    {
      "cell_type": "code",
      "source": [
        "# 요소 삽입\n",
        "# 괄호 안에서 정한 위치에 요소를 삽입\n",
        "# 해당 위치의 요소는 뒤로 하나씩 밀림\n",
        "li=[1,2,3]\n",
        "\n",
        "li.insert(0,4) # 0번째 자리에 4를 삽입\n",
        "\n",
        "li"
      ],
      "metadata": {
        "colab": {
          "base_uri": "https://localhost:8080/"
        },
        "id": "tNhRoxhxCYed",
        "outputId": "f5458bfd-27d3-4282-d74a-ca39ef36b942"
      },
      "execution_count": 27,
      "outputs": [
        {
          "output_type": "execute_result",
          "data": {
            "text/plain": [
              "[4, 1, 2, 3]"
            ]
          },
          "metadata": {},
          "execution_count": 27
        }
      ]
    },
    {
      "cell_type": "code",
      "source": [
        "# 리스트 확장\n",
        "# 리스트 뒤에 새로운 리스트의 요소를 모두 추가\n",
        "# 한번에 여러 요소를 추가하고 싶을 때 사용\n",
        "li"
      ],
      "metadata": {
        "colab": {
          "base_uri": "https://localhost:8080/"
        },
        "id": "XmI88iaaDPhm",
        "outputId": "fa75899f-29d9-4b02-d2b9-4acc8d7d90e4"
      },
      "execution_count": 28,
      "outputs": [
        {
          "output_type": "execute_result",
          "data": {
            "text/plain": [
              "[4, 1, 2, 3]"
            ]
          },
          "metadata": {},
          "execution_count": 28
        }
      ]
    },
    {
      "cell_type": "code",
      "source": [
        "li.extend([4,5])"
      ],
      "metadata": {
        "id": "8rx9bao9DZON"
      },
      "execution_count": 29,
      "outputs": []
    },
    {
      "cell_type": "code",
      "source": [
        "li"
      ],
      "metadata": {
        "colab": {
          "base_uri": "https://localhost:8080/"
        },
        "id": "6L_L_krUDcFt",
        "outputId": "7e069f04-badb-4b9c-d71f-688433f81aab"
      },
      "execution_count": 30,
      "outputs": [
        {
          "output_type": "execute_result",
          "data": {
            "text/plain": [
              "[4, 1, 2, 3, 4, 5]"
            ]
          },
          "metadata": {},
          "execution_count": 30
        }
      ]
    },
    {
      "cell_type": "code",
      "source": [
        "# 리스트 오름차순 정렬\n",
        "li.sort(reverse=True)\n",
        "li"
      ],
      "metadata": {
        "colab": {
          "base_uri": "https://localhost:8080/"
        },
        "id": "-299GS73Dcae",
        "outputId": "0e274faf-c760-4630-825e-cf318886047c"
      },
      "execution_count": 31,
      "outputs": [
        {
          "output_type": "execute_result",
          "data": {
            "text/plain": [
              "[5, 4, 4, 3, 2, 1]"
            ]
          },
          "metadata": {},
          "execution_count": 31
        }
      ]
    },
    {
      "cell_type": "markdown",
      "source": [
        "# 튜플\n",
        "\n",
        "- 리스트와 유사하지만 튜플은 값의 추가, 삭제, 수정이 불가\n",
        "  - 프로그램이 실행되는 동안 값이 변하면 안되는 경우 주로 사용"
      ],
      "metadata": {
        "id": "c0Rc6F_UEZjB"
      }
    },
    {
      "cell_type": "code",
      "source": [
        "tu=(2,2,3,4,5)"
      ],
      "metadata": {
        "id": "tK_l20FaEYzn"
      },
      "execution_count": 32,
      "outputs": []
    },
    {
      "cell_type": "code",
      "source": [
        "tu"
      ],
      "metadata": {
        "colab": {
          "base_uri": "https://localhost:8080/"
        },
        "id": "931IphOwErsS",
        "outputId": "3ead63f9-b10e-4db0-a602-0becb8c29b1a"
      },
      "execution_count": 33,
      "outputs": [
        {
          "output_type": "execute_result",
          "data": {
            "text/plain": [
              "(2, 2, 3, 4, 5)"
            ]
          },
          "metadata": {},
          "execution_count": 33
        }
      ]
    },
    {
      "cell_type": "code",
      "source": [
        "del tu[0]"
      ],
      "metadata": {
        "colab": {
          "base_uri": "https://localhost:8080/",
          "height": 146
        },
        "id": "z5RXhKWsEsMx",
        "outputId": "0dfeb3a5-46a3-429f-d6fe-2ede22d2d7f3"
      },
      "execution_count": 34,
      "outputs": [
        {
          "output_type": "error",
          "ename": "TypeError",
          "evalue": "'tuple' object doesn't support item deletion",
          "traceback": [
            "\u001b[0;31m---------------------------------------------------------------------------\u001b[0m",
            "\u001b[0;31mTypeError\u001b[0m                                 Traceback (most recent call last)",
            "\u001b[0;32m<ipython-input-34-324cee01d88d>\u001b[0m in \u001b[0;36m<cell line: 1>\u001b[0;34m()\u001b[0m\n\u001b[0;32m----> 1\u001b[0;31m \u001b[0;32mdel\u001b[0m \u001b[0mtu\u001b[0m\u001b[0;34m[\u001b[0m\u001b[0;36m0\u001b[0m\u001b[0;34m]\u001b[0m\u001b[0;34m\u001b[0m\u001b[0;34m\u001b[0m\u001b[0m\n\u001b[0m",
            "\u001b[0;31mTypeError\u001b[0m: 'tuple' object doesn't support item deletion"
          ]
        }
      ]
    },
    {
      "cell_type": "code",
      "source": [
        "tu[0]=0"
      ],
      "metadata": {
        "colab": {
          "base_uri": "https://localhost:8080/",
          "height": 146
        },
        "id": "RvLpYeaNEwOl",
        "outputId": "dfc1077d-94b3-4428-d5bc-a9ae5fb341dc"
      },
      "execution_count": 35,
      "outputs": [
        {
          "output_type": "error",
          "ename": "TypeError",
          "evalue": "'tuple' object does not support item assignment",
          "traceback": [
            "\u001b[0;31m---------------------------------------------------------------------------\u001b[0m",
            "\u001b[0;31mTypeError\u001b[0m                                 Traceback (most recent call last)",
            "\u001b[0;32m<ipython-input-35-378b9d1a3068>\u001b[0m in \u001b[0;36m<cell line: 1>\u001b[0;34m()\u001b[0m\n\u001b[0;32m----> 1\u001b[0;31m \u001b[0mtu\u001b[0m\u001b[0;34m[\u001b[0m\u001b[0;36m0\u001b[0m\u001b[0;34m]\u001b[0m\u001b[0;34m=\u001b[0m\u001b[0;36m0\u001b[0m\u001b[0;34m\u001b[0m\u001b[0;34m\u001b[0m\u001b[0m\n\u001b[0m",
            "\u001b[0;31mTypeError\u001b[0m: 'tuple' object does not support item assignment"
          ]
        }
      ]
    },
    {
      "cell_type": "markdown",
      "source": [
        "- 인덱싱, 슬라이싱"
      ],
      "metadata": {
        "id": "wLFnfmbtEzp-"
      }
    },
    {
      "cell_type": "code",
      "source": [
        "tu[0]"
      ],
      "metadata": {
        "colab": {
          "base_uri": "https://localhost:8080/"
        },
        "id": "kc8YhNNFEyXG",
        "outputId": "ee688d10-3bca-4183-a32a-cef37ecbae20"
      },
      "execution_count": 36,
      "outputs": [
        {
          "output_type": "execute_result",
          "data": {
            "text/plain": [
              "2"
            ]
          },
          "metadata": {},
          "execution_count": 36
        }
      ]
    },
    {
      "cell_type": "code",
      "source": [
        "tu[1:]"
      ],
      "metadata": {
        "colab": {
          "base_uri": "https://localhost:8080/"
        },
        "id": "CpeZLsz3FK0X",
        "outputId": "8a626c1a-c6c7-4908-ce9a-ba4989001ba6"
      },
      "execution_count": 38,
      "outputs": [
        {
          "output_type": "execute_result",
          "data": {
            "text/plain": [
              "(2, 3, 4, 5)"
            ]
          },
          "metadata": {},
          "execution_count": 38
        }
      ]
    },
    {
      "cell_type": "code",
      "source": [
        "tu1=(1,2)\n",
        "tu2=(3,4)\n",
        "\n",
        "tu1+tu2"
      ],
      "metadata": {
        "colab": {
          "base_uri": "https://localhost:8080/"
        },
        "id": "AXoD5-e7FNkY",
        "outputId": "ec98dfca-67bc-405f-ecb7-ae0e0ac12775"
      },
      "execution_count": 39,
      "outputs": [
        {
          "output_type": "execute_result",
          "data": {
            "text/plain": [
              "(1, 2, 3, 4)"
            ]
          },
          "metadata": {},
          "execution_count": 39
        }
      ]
    },
    {
      "cell_type": "code",
      "source": [
        "tu1*2"
      ],
      "metadata": {
        "colab": {
          "base_uri": "https://localhost:8080/"
        },
        "id": "NgH4MQVEFVDU",
        "outputId": "561a097d-4f26-41fc-9462-ff2531707360"
      },
      "execution_count": 40,
      "outputs": [
        {
          "output_type": "execute_result",
          "data": {
            "text/plain": [
              "(1, 2, 1, 2)"
            ]
          },
          "metadata": {},
          "execution_count": 40
        }
      ]
    },
    {
      "cell_type": "markdown",
      "source": [
        "# 딕셔너리\n",
        "\n",
        "- 자료의 대응 관계를 나타내는 자료형\n",
        "  - 연관 배열(Associative array) 또는 해시(Hash)\n",
        "\n",
        "- 데이터를 조회할 때 key를 통해 value를 구함\n",
        "\n",
        "- 딕셔너리 선언\n",
        "  - 중괄호{}로 선언\n",
        "  - 키 : 값 의 형태를 콤마(,)로 연결해서 만듦\n",
        "    - 키는 문자열, 숫자, 불 등으로 선언할 수 있지만 일반적으로는 문자열을 주로 사용"
      ],
      "metadata": {
        "id": "miCwXNwNFYvX"
      }
    },
    {
      "cell_type": "code",
      "source": [
        "dic={\"name\":\"andy\",\"birth\":\"1118\"}"
      ],
      "metadata": {
        "id": "0sfY4tWOFXjI"
      },
      "execution_count": 41,
      "outputs": []
    },
    {
      "cell_type": "code",
      "source": [
        "dic"
      ],
      "metadata": {
        "colab": {
          "base_uri": "https://localhost:8080/"
        },
        "id": "cKq1FIJUF-qA",
        "outputId": "bf623c9c-cf91-4acb-e5db-f8fa22449bb9"
      },
      "execution_count": 42,
      "outputs": [
        {
          "output_type": "execute_result",
          "data": {
            "text/plain": [
              "{'name': 'andy', 'birth': '1118'}"
            ]
          },
          "metadata": {},
          "execution_count": 42
        }
      ]
    },
    {
      "cell_type": "code",
      "source": [
        "dic={\"a\":[1,2,3]}\n",
        "dic"
      ],
      "metadata": {
        "colab": {
          "base_uri": "https://localhost:8080/"
        },
        "id": "ABv9aAFGF_BF",
        "outputId": "439e206b-f0c4-4c7d-e2cd-73e09593949f"
      },
      "execution_count": 46,
      "outputs": [
        {
          "output_type": "execute_result",
          "data": {
            "text/plain": [
              "{'a': [1, 2, 3]}"
            ]
          },
          "metadata": {},
          "execution_count": 46
        }
      ]
    },
    {
      "cell_type": "markdown",
      "source": [
        "- 딕셔너리의 요소 추가, 수정 삭제"
      ],
      "metadata": {
        "id": "02Sde61oIpiw"
      }
    },
    {
      "cell_type": "code",
      "source": [
        "# 키를 기반으로 값을 입력\n",
        "dic[\"name\"]=\"andy\"\n",
        "dic"
      ],
      "metadata": {
        "colab": {
          "base_uri": "https://localhost:8080/"
        },
        "id": "KzTjaaK6InsO",
        "outputId": "5995c2a5-ae14-4e9d-8453-48cf261851e3"
      },
      "execution_count": 47,
      "outputs": [
        {
          "output_type": "execute_result",
          "data": {
            "text/plain": [
              "{'a': [1, 2, 3], 'name': 'andy'}"
            ]
          },
          "metadata": {},
          "execution_count": 47
        }
      ]
    },
    {
      "cell_type": "code",
      "source": [
        "# 이미 존재하는 키를 지정하고 값을 넣으면 기존의 값을 새로운 값으로 대치\n",
        "dic[\"name\"]=\"파인애플\"\n",
        "dic"
      ],
      "metadata": {
        "colab": {
          "base_uri": "https://localhost:8080/"
        },
        "id": "Zw59UPQzI0fi",
        "outputId": "2965a139-553b-4dd9-8ac5-d02f48e4719b"
      },
      "execution_count": 48,
      "outputs": [
        {
          "output_type": "execute_result",
          "data": {
            "text/plain": [
              "{'a': [1, 2, 3], 'name': '파인애플'}"
            ]
          },
          "metadata": {},
          "execution_count": 48
        }
      ]
    },
    {
      "cell_type": "code",
      "source": [
        "# 딕셔너리 요소 삭제\n",
        "del dic[\"name\"]\n",
        "dic"
      ],
      "metadata": {
        "colab": {
          "base_uri": "https://localhost:8080/"
        },
        "id": "Yn0KSIUxI_ZC",
        "outputId": "fdef7f6c-b710-4097-d736-7850e15662c9"
      },
      "execution_count": 49,
      "outputs": [
        {
          "output_type": "execute_result",
          "data": {
            "text/plain": [
              "{'a': [1, 2, 3]}"
            ]
          },
          "metadata": {},
          "execution_count": 49
        }
      ]
    },
    {
      "cell_type": "code",
      "source": [
        "score={\"kim\":10,\"lee\":99}\n",
        "score"
      ],
      "metadata": {
        "colab": {
          "base_uri": "https://localhost:8080/"
        },
        "id": "_xXPDDCyJNyT",
        "outputId": "839bab95-3fdf-4664-f4bd-29ccfd45a3b3"
      },
      "execution_count": 50,
      "outputs": [
        {
          "output_type": "execute_result",
          "data": {
            "text/plain": [
              "{'kim': 10, 'lee': 99}"
            ]
          },
          "metadata": {},
          "execution_count": 50
        }
      ]
    },
    {
      "cell_type": "code",
      "source": [
        "print(score[\"kim\"])"
      ],
      "metadata": {
        "colab": {
          "base_uri": "https://localhost:8080/"
        },
        "id": "0JbosmCcJT-0",
        "outputId": "0853a94f-a77f-4318-ada7-4f4e6bcd805a"
      },
      "execution_count": 51,
      "outputs": [
        {
          "output_type": "stream",
          "name": "stdout",
          "text": [
            "10\n"
          ]
        }
      ]
    },
    {
      "cell_type": "code",
      "source": [
        "print(score[\"lee\"])"
      ],
      "metadata": {
        "colab": {
          "base_uri": "https://localhost:8080/"
        },
        "id": "lROqPtXRJXdc",
        "outputId": "087122b1-094e-4cb4-bc3c-f81c053b3268"
      },
      "execution_count": 52,
      "outputs": [
        {
          "output_type": "stream",
          "name": "stdout",
          "text": [
            "99\n"
          ]
        }
      ]
    },
    {
      "cell_type": "markdown",
      "source": [
        "## 딕셔너리 관련 함수\n",
        "\n",
        "- key, value, item 리스트"
      ],
      "metadata": {
        "id": "wl410_VpJa02"
      }
    },
    {
      "cell_type": "code",
      "source": [
        "dic={\"name\":\"andy\",\"phone\":\"0119991234\",\"borth\":\"1118\"}\n",
        "dic.keys()"
      ],
      "metadata": {
        "colab": {
          "base_uri": "https://localhost:8080/"
        },
        "id": "JtI7y6eAJZk_",
        "outputId": "98cc6d03-170c-40ed-d97e-b84b38c71184"
      },
      "execution_count": 53,
      "outputs": [
        {
          "output_type": "execute_result",
          "data": {
            "text/plain": [
              "dict_keys(['name', 'phone', 'borth'])"
            ]
          },
          "metadata": {},
          "execution_count": 53
        }
      ]
    },
    {
      "cell_type": "code",
      "source": [
        "dic.values()"
      ],
      "metadata": {
        "colab": {
          "base_uri": "https://localhost:8080/"
        },
        "id": "r-LLftdoJudL",
        "outputId": "6fccb3ef-2bb0-4145-be3f-bb3aa16b65ee"
      },
      "execution_count": 54,
      "outputs": [
        {
          "output_type": "execute_result",
          "data": {
            "text/plain": [
              "dict_values(['andy', '0119991234', '1118'])"
            ]
          },
          "metadata": {},
          "execution_count": 54
        }
      ]
    },
    {
      "cell_type": "code",
      "source": [
        "dic.items()"
      ],
      "metadata": {
        "colab": {
          "base_uri": "https://localhost:8080/"
        },
        "id": "BFIEIhqKJv_k",
        "outputId": "e59a5cff-d1f7-4fe3-cf99-e3bdbe83e7a5"
      },
      "execution_count": 55,
      "outputs": [
        {
          "output_type": "execute_result",
          "data": {
            "text/plain": [
              "dict_items([('name', 'andy'), ('phone', '0119991234'), ('borth', '1118')])"
            ]
          },
          "metadata": {},
          "execution_count": 55
        }
      ]
    },
    {
      "cell_type": "markdown",
      "source": [
        "# 세트\n",
        "\n",
        "- 중복을 허용하지 않음\n",
        "- 순서가 없음"
      ],
      "metadata": {
        "id": "UB_UPF2cKxUH"
      }
    },
    {
      "cell_type": "code",
      "source": [
        "set1=set(\"Hello\")\n",
        "print(set1)"
      ],
      "metadata": {
        "colab": {
          "base_uri": "https://localhost:8080/"
        },
        "id": "ogHtHbJPJxyK",
        "outputId": "9aeb8f50-d17e-4532-b876-02b4cffc415b"
      },
      "execution_count": 56,
      "outputs": [
        {
          "output_type": "stream",
          "name": "stdout",
          "text": [
            "{'l', 'e', 'H', 'o'}\n"
          ]
        }
      ]
    },
    {
      "cell_type": "markdown",
      "source": [
        "- 교집합, 합집합, 차집합"
      ],
      "metadata": {
        "id": "qEHnsyUuK7Oc"
      }
    },
    {
      "cell_type": "code",
      "source": [
        "set1={1,2,3,4,5,6}\n",
        "set2={4,5,6,7,8,9}"
      ],
      "metadata": {
        "id": "YDguDyc6K6K5"
      },
      "execution_count": 57,
      "outputs": []
    },
    {
      "cell_type": "code",
      "source": [
        "# 교집합\n",
        "set1&set2"
      ],
      "metadata": {
        "colab": {
          "base_uri": "https://localhost:8080/"
        },
        "id": "geF3IrC9LHJJ",
        "outputId": "88bfcf04-b2c0-4277-f4cb-30984f2b7cd1"
      },
      "execution_count": 58,
      "outputs": [
        {
          "output_type": "execute_result",
          "data": {
            "text/plain": [
              "{4, 5, 6}"
            ]
          },
          "metadata": {},
          "execution_count": 58
        }
      ]
    },
    {
      "cell_type": "code",
      "source": [
        "# 합집합\n",
        "set1|set2"
      ],
      "metadata": {
        "colab": {
          "base_uri": "https://localhost:8080/"
        },
        "id": "kAky9ntbLMFk",
        "outputId": "49e6fcb7-905a-4f59-da0d-9c5a25a16e33"
      },
      "execution_count": 59,
      "outputs": [
        {
          "output_type": "execute_result",
          "data": {
            "text/plain": [
              "{1, 2, 3, 4, 5, 6, 7, 8, 9}"
            ]
          },
          "metadata": {},
          "execution_count": 59
        }
      ]
    },
    {
      "cell_type": "code",
      "source": [
        "# 차집합\n",
        "set1-set2"
      ],
      "metadata": {
        "colab": {
          "base_uri": "https://localhost:8080/"
        },
        "id": "zgjaCVQhLloI",
        "outputId": "0c8888e9-9526-446d-c412-c51925b605a5"
      },
      "execution_count": 60,
      "outputs": [
        {
          "output_type": "execute_result",
          "data": {
            "text/plain": [
              "{1, 2, 3}"
            ]
          },
          "metadata": {},
          "execution_count": 60
        }
      ]
    },
    {
      "cell_type": "code",
      "source": [
        "set2-set1"
      ],
      "metadata": {
        "colab": {
          "base_uri": "https://localhost:8080/"
        },
        "id": "tolTGA8wLsJD",
        "outputId": "48bd113f-68f3-470e-f142-45b68111e7b7"
      },
      "execution_count": 61,
      "outputs": [
        {
          "output_type": "execute_result",
          "data": {
            "text/plain": [
              "{7, 8, 9}"
            ]
          },
          "metadata": {},
          "execution_count": 61
        }
      ]
    }
  ]
}