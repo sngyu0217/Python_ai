{
  "nbformat": 4,
  "nbformat_minor": 0,
  "metadata": {
    "colab": {
      "provenance": [],
      "authorship_tag": "ABX9TyOr4W7I/YnvtAPgo3niGNJF",
      "include_colab_link": true
    },
    "kernelspec": {
      "name": "python3",
      "display_name": "Python 3"
    },
    "language_info": {
      "name": "python"
    }
  },
  "cells": [
    {
      "cell_type": "markdown",
      "metadata": {
        "id": "view-in-github",
        "colab_type": "text"
      },
      "source": [
        "<a href=\"https://colab.research.google.com/github/sngyu0217/Python_ai/blob/main/5_%ED%95%A8%EC%88%98.ipynb\" target=\"_parent\"><img src=\"https://colab.research.google.com/assets/colab-badge.svg\" alt=\"Open In Colab\"/></a>"
      ]
    },
    {
      "cell_type": "markdown",
      "source": [
        "# 파이썬 함수의 구조\n",
        "\n",
        "```\n",
        "def 함수명(매개변수):\n",
        "  수행할 문장\n",
        "```"
      ],
      "metadata": {
        "id": "8dpWrfUJm9XI"
      }
    },
    {
      "cell_type": "code",
      "execution_count": 3,
      "metadata": {
        "id": "MkWj1gYKmoqf"
      },
      "outputs": [],
      "source": [
        "# welcome 함수 정의\n",
        "def welcome():\n",
        "  print(\"Hello\")\n",
        "  print(\"Nice to meet you\")"
      ]
    },
    {
      "cell_type": "code",
      "source": [
        "# 함수명() : 함수 호출\n",
        "welcome()"
      ],
      "metadata": {
        "colab": {
          "base_uri": "https://localhost:8080/"
        },
        "id": "gzN3RJJ6nZAA",
        "outputId": "6b0f932a-94cc-4a9b-e4a9-f772037fccd0"
      },
      "execution_count": 4,
      "outputs": [
        {
          "output_type": "stream",
          "name": "stdout",
          "text": [
            "Hello\n",
            "Nice to meet you\n"
          ]
        }
      ]
    },
    {
      "cell_type": "code",
      "source": [
        "# add 함수 정의\n",
        "def add(a,b):\n",
        "  return a+b"
      ],
      "metadata": {
        "id": "6mEnuex3ngPs"
      },
      "execution_count": 6,
      "outputs": []
    },
    {
      "cell_type": "code",
      "source": [
        "result=add(3,4)\n",
        "print(result)"
      ],
      "metadata": {
        "colab": {
          "base_uri": "https://localhost:8080/"
        },
        "id": "rOjqQaz6nl_O",
        "outputId": "2740572a-86b4-4bbe-d4ba-435c5d4e88c0"
      },
      "execution_count": 7,
      "outputs": [
        {
          "output_type": "stream",
          "name": "stdout",
          "text": [
            "7\n"
          ]
        }
      ]
    },
    {
      "cell_type": "markdown",
      "source": [
        "## 함수 사용의 장점\n",
        "\n",
        "- 코드의 용도를 구분\n",
        "- 코드 재사용이 용이\n",
        "- 실수를 방지(오타 등)"
      ],
      "metadata": {
        "id": "mNg0dMkQntDu"
      }
    },
    {
      "cell_type": "markdown",
      "source": [
        "# 매개변수와 인수\n",
        "\n",
        "- 매개변수 : 함수에 입력으로 전달된 값을 받는 변수\n",
        "- 인수 : 함수를 호출할 때 전달하는 입력값\n",
        "- 인수와 매개변수는 다른 개념이지만 함수가 호출된 뒤에는 구분이 모호해지므로 구분하지 않는 경우도 많음\n",
        "\n",
        "- 함수의 사용법\n",
        "  - 결괏값을 받을 변수 = 함수명(입력인수1, 압력인수2, ...)"
      ],
      "metadata": {
        "id": "NBis0Qh9n3Dw"
      }
    },
    {
      "cell_type": "code",
      "source": [
        "# 입력값이 없고 결괏값이 없는 함수\n",
        "def say():\n",
        "  return \"Hi\""
      ],
      "metadata": {
        "id": "vmZrKKhdnq4R"
      },
      "execution_count": 8,
      "outputs": []
    },
    {
      "cell_type": "code",
      "source": [
        "a=say()\n",
        "print(a)"
      ],
      "metadata": {
        "colab": {
          "base_uri": "https://localhost:8080/"
        },
        "id": "TqcSEbCdogAM",
        "outputId": "21be25d9-f220-4229-a40f-dc3495abfad8"
      },
      "execution_count": 9,
      "outputs": [
        {
          "output_type": "stream",
          "name": "stdout",
          "text": [
            "Hi\n"
          ]
        }
      ]
    },
    {
      "cell_type": "code",
      "source": [
        "# 입력값이 없고 결과값이 없는 함수\n",
        "def add(a,b):\n",
        "  print(f\"{a},{b} 의 합은 {a+b}입니다\")"
      ],
      "metadata": {
        "id": "K3wr0D9_oiRm"
      },
      "execution_count": 10,
      "outputs": []
    },
    {
      "cell_type": "code",
      "source": [
        "add(3,4)"
      ],
      "metadata": {
        "colab": {
          "base_uri": "https://localhost:8080/"
        },
        "id": "Wb7lWUAdo4as",
        "outputId": "84bc5078-5636-44bf-bd38-f8d5263211d4"
      },
      "execution_count": 11,
      "outputs": [
        {
          "output_type": "stream",
          "name": "stdout",
          "text": [
            "3,4 의 합은 7입니다\n"
          ]
        }
      ]
    },
    {
      "cell_type": "code",
      "source": [
        "# 결괏값 확인\n",
        "a=add(3,4)\n",
        "print(a)"
      ],
      "metadata": {
        "colab": {
          "base_uri": "https://localhost:8080/"
        },
        "id": "NNK1rbRXo5kS",
        "outputId": "eae86bb1-906c-49f6-ce14-d223e24c53c8"
      },
      "execution_count": 12,
      "outputs": [
        {
          "output_type": "stream",
          "name": "stdout",
          "text": [
            "3,4 의 합은 7입니다\n",
            "None\n"
          ]
        }
      ]
    },
    {
      "cell_type": "code",
      "source": [
        "# 입력값도 결괏값도 없는 함수\n",
        "def say():\n",
        "  print(\"Hi\")"
      ],
      "metadata": {
        "id": "r-0muGiSpD9g"
      },
      "execution_count": 13,
      "outputs": []
    },
    {
      "cell_type": "code",
      "source": [
        "say()"
      ],
      "metadata": {
        "colab": {
          "base_uri": "https://localhost:8080/"
        },
        "id": "4EJ1NTFopNj_",
        "outputId": "30efc654-6c95-4d7f-92ba-d1f3da718894"
      },
      "execution_count": 14,
      "outputs": [
        {
          "output_type": "stream",
          "name": "stdout",
          "text": [
            "Hi\n"
          ]
        }
      ]
    },
    {
      "cell_type": "markdown",
      "source": [
        "## 매개변수 지정하여 호출하기"
      ],
      "metadata": {
        "id": "eVPFBP99pQ04"
      }
    },
    {
      "cell_type": "code",
      "source": [
        "add(3,7)"
      ],
      "metadata": {
        "colab": {
          "base_uri": "https://localhost:8080/"
        },
        "id": "ebBSdRICpOlq",
        "outputId": "99c8cafc-394f-49d4-ab76-17b0b52d6905"
      },
      "execution_count": 15,
      "outputs": [
        {
          "output_type": "stream",
          "name": "stdout",
          "text": [
            "3,7 의 합은 10입니다\n"
          ]
        }
      ]
    },
    {
      "cell_type": "code",
      "source": [
        "add(a=3,b=7)"
      ],
      "metadata": {
        "colab": {
          "base_uri": "https://localhost:8080/"
        },
        "id": "p_xIEHNXpWh-",
        "outputId": "477d5b70-49db-42ea-e305-9f6fe0a7fffd"
      },
      "execution_count": 16,
      "outputs": [
        {
          "output_type": "stream",
          "name": "stdout",
          "text": [
            "3,7 의 합은 10입니다\n"
          ]
        }
      ]
    },
    {
      "cell_type": "code",
      "source": [
        "add(b=3,a=7)"
      ],
      "metadata": {
        "colab": {
          "base_uri": "https://localhost:8080/"
        },
        "id": "Kf4dql4npcC6",
        "outputId": "879245f6-f225-44dd-846f-6e3a48fa459e"
      },
      "execution_count": 17,
      "outputs": [
        {
          "output_type": "stream",
          "name": "stdout",
          "text": [
            "7,3 의 합은 10입니다\n"
          ]
        }
      ]
    },
    {
      "cell_type": "markdown",
      "source": [
        "# 함수의 결과값"
      ],
      "metadata": {
        "id": "9aV3NTqAphfW"
      }
    },
    {
      "cell_type": "code",
      "source": [
        "def add_and_mul(a,b):\n",
        "  return a+b,a*b"
      ],
      "metadata": {
        "id": "eTDq-Ig1pe3S"
      },
      "execution_count": 18,
      "outputs": []
    },
    {
      "cell_type": "code",
      "source": [
        "result=add_and_mul(3,4)\n",
        "\n",
        "# 함수의 결괏값은 2개가 아니라 하나의 튜플로 변환되었음\n",
        "print(result)"
      ],
      "metadata": {
        "colab": {
          "base_uri": "https://localhost:8080/"
        },
        "id": "oSZzL4zdpwYB",
        "outputId": "b850650e-8b14-48ad-c205-7144b22d1256"
      },
      "execution_count": 19,
      "outputs": [
        {
          "output_type": "stream",
          "name": "stdout",
          "text": [
            "(7, 12)\n"
          ]
        }
      ]
    },
    {
      "cell_type": "code",
      "source": [
        "# 2개의 결괏값처럼 받고 싶다면\n",
        "result1, result2=add_and_mul(3,4)\n",
        "print(result1)\n",
        "print(result2)"
      ],
      "metadata": {
        "colab": {
          "base_uri": "https://localhost:8080/"
        },
        "id": "zAqY4nSRp7Zm",
        "outputId": "61b9903b-8ef4-4292-fb9e-e20f7832249c"
      },
      "execution_count": 20,
      "outputs": [
        {
          "output_type": "stream",
          "name": "stdout",
          "text": [
            "7\n",
            "12\n"
          ]
        }
      ]
    },
    {
      "cell_type": "code",
      "source": [
        "def add_and_mul(a,b):\n",
        "  return a+b\n",
        "  return a*b"
      ],
      "metadata": {
        "id": "ym6CHUXVt6j5"
      },
      "execution_count": 21,
      "outputs": []
    },
    {
      "cell_type": "code",
      "source": [
        "# 함수는 return을 만나는 순간 함수 실행이 종료됨\n",
        "result=add_and_mul(2,3)\n",
        "print(result)"
      ],
      "metadata": {
        "colab": {
          "base_uri": "https://localhost:8080/"
        },
        "id": "Ag335ta7uRdi",
        "outputId": "ba4fb540-e5e3-4261-fa5a-0b695696a8b4"
      },
      "execution_count": 22,
      "outputs": [
        {
          "output_type": "stream",
          "name": "stdout",
          "text": [
            "5\n"
          ]
        }
      ]
    },
    {
      "cell_type": "markdown",
      "source": [
        "### return\n",
        "\n",
        "- 함수를 종료시키고 싶을 때 사용할 수도 있음"
      ],
      "metadata": {
        "id": "fkORaLRAudmX"
      }
    },
    {
      "cell_type": "code",
      "source": [
        "def say_nick(nick):\n",
        "  if nick==\"바보\":\n",
        "    return\n",
        "  print(f\"나의 별명은 {nick} 입니다\")"
      ],
      "metadata": {
        "id": "2ZFf0eHruchc"
      },
      "execution_count": 23,
      "outputs": []
    },
    {
      "cell_type": "code",
      "source": [
        "say_nick(\"야호\")"
      ],
      "metadata": {
        "colab": {
          "base_uri": "https://localhost:8080/"
        },
        "id": "l7I8LRXuuzCj",
        "outputId": "8fc7143d-21c2-40da-ad95-b9d0dc40b83f"
      },
      "execution_count": 24,
      "outputs": [
        {
          "output_type": "stream",
          "name": "stdout",
          "text": [
            "나의 별명은 야호 입니다\n"
          ]
        }
      ]
    },
    {
      "cell_type": "code",
      "source": [
        "say_nick(\"바보\")"
      ],
      "metadata": {
        "id": "io2EB1LAu142"
      },
      "execution_count": 25,
      "outputs": []
    },
    {
      "cell_type": "markdown",
      "source": [
        "# 디폴트 매개변수\n",
        "\n",
        "- 기본값 : 매개변수로 전달되는 인수가 없는 경우에 기본적으로 사용하는 값"
      ],
      "metadata": {
        "id": "YdkYQ11PvA2L"
      }
    },
    {
      "cell_type": "code",
      "source": [
        "say_nick()"
      ],
      "metadata": {
        "colab": {
          "base_uri": "https://localhost:8080/",
          "height": 146
        },
        "id": "frusWK7iu_By",
        "outputId": "38cf2037-f685-45b8-da77-96f2e7cd2ec4"
      },
      "execution_count": 26,
      "outputs": [
        {
          "output_type": "error",
          "ename": "TypeError",
          "evalue": "say_nick() missing 1 required positional argument: 'nick'",
          "traceback": [
            "\u001b[0;31m---------------------------------------------------------------------------\u001b[0m",
            "\u001b[0;31mTypeError\u001b[0m                                 Traceback (most recent call last)",
            "\u001b[0;32m<ipython-input-26-3b1cfe7aa36c>\u001b[0m in \u001b[0;36m<cell line: 1>\u001b[0;34m()\u001b[0m\n\u001b[0;32m----> 1\u001b[0;31m \u001b[0msay_nick\u001b[0m\u001b[0;34m(\u001b[0m\u001b[0;34m)\u001b[0m\u001b[0;34m\u001b[0m\u001b[0;34m\u001b[0m\u001b[0m\n\u001b[0m",
            "\u001b[0;31mTypeError\u001b[0m: say_nick() missing 1 required positional argument: 'nick'"
          ]
        }
      ]
    },
    {
      "cell_type": "code",
      "source": [
        "say_nick(\"aaa\",\"bbb\")"
      ],
      "metadata": {
        "colab": {
          "base_uri": "https://localhost:8080/",
          "height": 146
        },
        "id": "nArXqyNEvRRx",
        "outputId": "355a6348-ab33-451d-9f39-a0aa595788c7"
      },
      "execution_count": 27,
      "outputs": [
        {
          "output_type": "error",
          "ename": "TypeError",
          "evalue": "say_nick() takes 1 positional argument but 2 were given",
          "traceback": [
            "\u001b[0;31m---------------------------------------------------------------------------\u001b[0m",
            "\u001b[0;31mTypeError\u001b[0m                                 Traceback (most recent call last)",
            "\u001b[0;32m<ipython-input-27-bb6f72b0d2a1>\u001b[0m in \u001b[0;36m<cell line: 1>\u001b[0;34m()\u001b[0m\n\u001b[0;32m----> 1\u001b[0;31m \u001b[0msay_nick\u001b[0m\u001b[0;34m(\u001b[0m\u001b[0;34m\"aaa\"\u001b[0m\u001b[0;34m,\u001b[0m\u001b[0;34m\"bbb\"\u001b[0m\u001b[0;34m)\u001b[0m\u001b[0;34m\u001b[0m\u001b[0;34m\u001b[0m\u001b[0m\n\u001b[0m",
            "\u001b[0;31mTypeError\u001b[0m: say_nick() takes 1 positional argument but 2 were given"
          ]
        }
      ]
    },
    {
      "cell_type": "code",
      "source": [
        "def say_myself(name, old, man=True):\n",
        "  print(f\"나의 이름은 {name}입니다\")\n",
        "  print(f\"나이는 {old}살 입니다\")\n",
        "\n",
        "  if man:\n",
        "    print(\"남자입니다\")\n",
        "  else:\n",
        "    print(\"여자입니다\")"
      ],
      "metadata": {
        "id": "Ehk_mUcyvVrI"
      },
      "execution_count": 28,
      "outputs": []
    },
    {
      "cell_type": "code",
      "source": [
        "# man 매개변수에 True 기본값이 입력됨\n",
        "say_myself(\"파이썬\",27)"
      ],
      "metadata": {
        "colab": {
          "base_uri": "https://localhost:8080/"
        },
        "id": "PN1Q2ItOvvbe",
        "outputId": "72517a4a-c4fc-4844-cc6f-6f3b83496c0b"
      },
      "execution_count": 29,
      "outputs": [
        {
          "output_type": "stream",
          "name": "stdout",
          "text": [
            "나의 이름은 파이썬입니다\n",
            "나이는 27살 입니다\n",
            "남자입니다\n"
          ]
        }
      ]
    },
    {
      "cell_type": "code",
      "source": [
        "say_myself(\"파이썬\",27,True)"
      ],
      "metadata": {
        "colab": {
          "base_uri": "https://localhost:8080/"
        },
        "id": "OiIPQjUYv4TI",
        "outputId": "fe9a9801-d780-43fd-d0a8-164de51c1d1c"
      },
      "execution_count": 30,
      "outputs": [
        {
          "output_type": "stream",
          "name": "stdout",
          "text": [
            "나의 이름은 파이썬입니다\n",
            "나이는 27살 입니다\n",
            "남자입니다\n"
          ]
        }
      ]
    },
    {
      "cell_type": "code",
      "source": [
        "say_myself(\"파이썬\",27,False)"
      ],
      "metadata": {
        "colab": {
          "base_uri": "https://localhost:8080/"
        },
        "id": "jFXGpwitwL6C",
        "outputId": "658afc0d-aa63-4386-b09c-2634ff914e59"
      },
      "execution_count": 31,
      "outputs": [
        {
          "output_type": "stream",
          "name": "stdout",
          "text": [
            "나의 이름은 파이썬입니다\n",
            "나이는 27살 입니다\n",
            "여자입니다\n"
          ]
        }
      ]
    },
    {
      "cell_type": "markdown",
      "source": [
        "## 디폴드 매개변수의 위치\n",
        "\n",
        "- 디폴트 매개변수는 가장 끝에 위치해야함"
      ],
      "metadata": {
        "id": "Ni9b-YoZwStr"
      }
    },
    {
      "cell_type": "code",
      "source": [
        "def say_myself(name,man=True,old):\n",
        "  print(f\"나의 이름은 {name} 입니다\")\n",
        "  print(f\"나이는 {old}살 입니다\")\n",
        "\n",
        "  if man:\n",
        "    print(\"남자입니다\")\n",
        "  else:\n",
        "    print(\"여자입니다\")"
      ],
      "metadata": {
        "colab": {
          "base_uri": "https://localhost:8080/",
          "height": 110
        },
        "id": "k-xkHIY8wQCq",
        "outputId": "50499323-53c4-4e7a-a1be-f6daca5d893b"
      },
      "execution_count": 32,
      "outputs": [
        {
          "output_type": "error",
          "ename": "SyntaxError",
          "evalue": "non-default argument follows default argument (<ipython-input-32-49626133d2ba>, line 1)",
          "traceback": [
            "\u001b[0;36m  File \u001b[0;32m\"<ipython-input-32-49626133d2ba>\"\u001b[0;36m, line \u001b[0;32m1\u001b[0m\n\u001b[0;31m    def say_myself(name,man=True,old):\u001b[0m\n\u001b[0m                                 ^\u001b[0m\n\u001b[0;31mSyntaxError\u001b[0m\u001b[0;31m:\u001b[0m non-default argument follows default argument\n"
          ]
        }
      ]
    },
    {
      "cell_type": "markdown",
      "source": [
        "# 지역변수와 전역변수\n",
        "\n",
        "- 지역변수\n",
        "  - 함수 내부에서 선언한 변수는 함수 내부에서만 사용할 수 있는 변수가 됨\n",
        "  - 함수 외부에서는 지역변수에 접근할 수 없음\n",
        "\n",
        "- 전역변수\n",
        "  - 하뭇 외부에서 선언한 변수는 함수 내부에서도 사용 가능"
      ],
      "metadata": {
        "id": "pHWsJTw1wTWf"
      }
    },
    {
      "cell_type": "code",
      "source": [
        "def vartest():\n",
        "  # 지역변수 var\n",
        "  var=10\n",
        "  print(var)"
      ],
      "metadata": {
        "id": "PgDTMajsxM0s"
      },
      "execution_count": 33,
      "outputs": []
    },
    {
      "cell_type": "code",
      "source": [
        "vartest()"
      ],
      "metadata": {
        "colab": {
          "base_uri": "https://localhost:8080/"
        },
        "id": "To8infC6xUGZ",
        "outputId": "7438ca1f-994c-4146-fb10-154f78adcb5a"
      },
      "execution_count": 34,
      "outputs": [
        {
          "output_type": "stream",
          "name": "stdout",
          "text": [
            "10\n"
          ]
        }
      ]
    },
    {
      "cell_type": "code",
      "source": [
        "# vartest 외부에서는 함수 내부의 지역변수 var를 사용할 수 없음\n",
        "print(var)"
      ],
      "metadata": {
        "colab": {
          "base_uri": "https://localhost:8080/",
          "height": 165
        },
        "id": "lfpKfD7Hxt0K",
        "outputId": "1cee0d70-dce9-4224-a9ba-16b783e28f9b"
      },
      "execution_count": 35,
      "outputs": [
        {
          "output_type": "error",
          "ename": "NameError",
          "evalue": "name 'var' is not defined",
          "traceback": [
            "\u001b[0;31m---------------------------------------------------------------------------\u001b[0m",
            "\u001b[0;31mNameError\u001b[0m                                 Traceback (most recent call last)",
            "\u001b[0;32m<ipython-input-35-d5dcf0a30a39>\u001b[0m in \u001b[0;36m<cell line: 2>\u001b[0;34m()\u001b[0m\n\u001b[1;32m      1\u001b[0m \u001b[0;31m# vartest 외부에서는 함수 내부의 지역변수 var를 사용할 수 없음\u001b[0m\u001b[0;34m\u001b[0m\u001b[0;34m\u001b[0m\u001b[0m\n\u001b[0;32m----> 2\u001b[0;31m \u001b[0mprint\u001b[0m\u001b[0;34m(\u001b[0m\u001b[0mvar\u001b[0m\u001b[0;34m)\u001b[0m\u001b[0;34m\u001b[0m\u001b[0;34m\u001b[0m\u001b[0m\n\u001b[0m",
            "\u001b[0;31mNameError\u001b[0m: name 'var' is not defined"
          ]
        }
      ]
    },
    {
      "cell_type": "code",
      "source": [
        "var2=10"
      ],
      "metadata": {
        "id": "egF_Ldfyx9pN"
      },
      "execution_count": 36,
      "outputs": []
    },
    {
      "cell_type": "code",
      "source": [
        "def var2test():\n",
        "  print(var2)"
      ],
      "metadata": {
        "id": "R6Hx5nm6yBSl"
      },
      "execution_count": 37,
      "outputs": []
    },
    {
      "cell_type": "code",
      "source": [
        "var2test()"
      ],
      "metadata": {
        "colab": {
          "base_uri": "https://localhost:8080/"
        },
        "id": "p85g7rrQyDts",
        "outputId": "15aad128-2c31-496f-e653-cd520fd665ae"
      },
      "execution_count": 38,
      "outputs": [
        {
          "output_type": "stream",
          "name": "stdout",
          "text": [
            "10\n"
          ]
        }
      ]
    },
    {
      "cell_type": "markdown",
      "source": [
        "### 전역변수를 함수 내부에서 사용하는 2가지 경우\n",
        "\n",
        "- 단순 참조\n",
        "- 전역변수의 값을 변경"
      ],
      "metadata": {
        "id": "NtE5y1lFyHOU"
      }
    },
    {
      "cell_type": "code",
      "source": [
        "# 전역변수 a\n",
        "a=0"
      ],
      "metadata": {
        "id": "A8neMnpZyFOO"
      },
      "execution_count": 39,
      "outputs": []
    },
    {
      "cell_type": "code",
      "source": [
        "def f():\n",
        "  # 지역변수 a\n",
        "  a=10\n",
        "  print(a)"
      ],
      "metadata": {
        "id": "-MqQX-lwyRKj"
      },
      "execution_count": 40,
      "outputs": []
    },
    {
      "cell_type": "code",
      "source": [
        "f()"
      ],
      "metadata": {
        "colab": {
          "base_uri": "https://localhost:8080/"
        },
        "id": "npgj_EsEyWql",
        "outputId": "3fa473a6-2292-4640-a3af-e438d223e0d6"
      },
      "execution_count": 41,
      "outputs": [
        {
          "output_type": "stream",
          "name": "stdout",
          "text": [
            "10\n"
          ]
        }
      ]
    },
    {
      "cell_type": "code",
      "source": [
        "print(a)"
      ],
      "metadata": {
        "colab": {
          "base_uri": "https://localhost:8080/"
        },
        "id": "0qQYRV4EyYAB",
        "outputId": "dd73f0bb-6e1e-4d5a-f365-16a06609305a"
      },
      "execution_count": 42,
      "outputs": [
        {
          "output_type": "stream",
          "name": "stdout",
          "text": [
            "0\n"
          ]
        }
      ]
    },
    {
      "cell_type": "code",
      "source": [
        "# 함수 내부에서 전역변수의 값을 변경하려면\n",
        "def f():\n",
        "  global a # 전역변수 a를 사용하겠다\n",
        "  a=10\n",
        "  print(a)"
      ],
      "metadata": {
        "id": "o_Jtrk9fyaPR"
      },
      "execution_count": 43,
      "outputs": []
    },
    {
      "cell_type": "code",
      "source": [
        "f()"
      ],
      "metadata": {
        "colab": {
          "base_uri": "https://localhost:8080/"
        },
        "id": "71T7zKUfyp5H",
        "outputId": "7e66eaf6-1317-41fb-fdd3-4f3dacef2f39"
      },
      "execution_count": 44,
      "outputs": [
        {
          "output_type": "stream",
          "name": "stdout",
          "text": [
            "10\n"
          ]
        }
      ]
    },
    {
      "cell_type": "code",
      "source": [
        "print(a)"
      ],
      "metadata": {
        "colab": {
          "base_uri": "https://localhost:8080/"
        },
        "id": "SeCnPr6gyqq1",
        "outputId": "df1bab7f-1061-447f-e953-6aa47c9af667"
      },
      "execution_count": 45,
      "outputs": [
        {
          "output_type": "stream",
          "name": "stdout",
          "text": [
            "10\n"
          ]
        }
      ]
    },
    {
      "cell_type": "code",
      "source": [],
      "metadata": {
        "id": "VYrdslDgytG_"
      },
      "execution_count": null,
      "outputs": []
    }
  ]
}