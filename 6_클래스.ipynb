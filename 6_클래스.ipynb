{
  "nbformat": 4,
  "nbformat_minor": 0,
  "metadata": {
    "colab": {
      "provenance": [],
      "authorship_tag": "ABX9TyMWuuDRp5ErMXPJXxQA3YeO",
      "include_colab_link": true
    },
    "kernelspec": {
      "name": "python3",
      "display_name": "Python 3"
    },
    "language_info": {
      "name": "python"
    }
  },
  "cells": [
    {
      "cell_type": "markdown",
      "metadata": {
        "id": "view-in-github",
        "colab_type": "text"
      },
      "source": [
        "<a href=\"https://colab.research.google.com/github/sngyu0217/Python_ai/blob/main/6_%ED%81%B4%EB%9E%98%EC%8A%A4.ipynb\" target=\"_parent\"><img src=\"https://colab.research.google.com/assets/colab-badge.svg\" alt=\"Open In Colab\"/></a>"
      ]
    },
    {
      "cell_type": "markdown",
      "source": [
        "# 클래스의 개념\n",
        "\n",
        "- 객체를 만드는 도구\n",
        "- 클래스를 통해 여러 개의 객체를 만들 수 있음\n",
        "- 동일한 클래스에서도 서로 다른 값을 가진 객체가 만들어질 수 있음"
      ],
      "metadata": {
        "id": "agPsA9-WMCmY"
      }
    },
    {
      "cell_type": "code",
      "execution_count": 1,
      "metadata": {
        "id": "1TvQQFdJmzLg",
        "colab": {
          "base_uri": "https://localhost:8080/"
        },
        "outputId": "f75e8565-4b51-45b3-b512-2ccfbb80b6e8"
      },
      "outputs": [
        {
          "output_type": "stream",
          "name": "stdout",
          "text": [
            "3\n",
            "7\n"
          ]
        }
      ],
      "source": [
        "# 계산기를 함수와 변수로 구현하는 예시 코드\n",
        "result=0\n",
        "\n",
        "def cal_add(num):\n",
        "  global result\n",
        "  result=result+num\n",
        "  return result\n",
        "\n",
        "print(cal_add(3))\n",
        "print(cal_add(4))"
      ]
    },
    {
      "cell_type": "code",
      "source": [
        "# 만약에 2대의 계산기가 필요한 상황이라면\n",
        "# 별도의 변수, 별도의 함수를 만들어야하는 상황"
      ],
      "metadata": {
        "id": "TQ1cGN4qMsxp"
      },
      "execution_count": 2,
      "outputs": []
    },
    {
      "cell_type": "code",
      "source": [
        "class Calculator:\n",
        "  def __init__(self):\n",
        "    self.result=0\n",
        "\n",
        "  def add(self,num):\n",
        "    self.result+=num\n",
        "    return self.result"
      ],
      "metadata": {
        "id": "82f9NTHDM2O9"
      },
      "execution_count": 3,
      "outputs": []
    },
    {
      "cell_type": "code",
      "source": [
        "# 계산시 객체 cal1, cal2 생성\n",
        "cal1=Calculator()\n",
        "cal2=Calculator()"
      ],
      "metadata": {
        "id": "h8N_CDa5NG4j"
      },
      "execution_count": 4,
      "outputs": []
    },
    {
      "cell_type": "code",
      "source": [
        "print(cal1.add(3))\n",
        "print(cal1.add(4))"
      ],
      "metadata": {
        "colab": {
          "base_uri": "https://localhost:8080/"
        },
        "id": "_TwqER3-NPLd",
        "outputId": "d2967591-f8c5-4bd2-dee5-31804b72764c"
      },
      "execution_count": 5,
      "outputs": [
        {
          "output_type": "stream",
          "name": "stdout",
          "text": [
            "3\n",
            "7\n"
          ]
        }
      ]
    },
    {
      "cell_type": "code",
      "source": [
        "print(cal2.add(30))\n",
        "print(cal2.add(70))"
      ],
      "metadata": {
        "colab": {
          "base_uri": "https://localhost:8080/"
        },
        "id": "jfdBj2FsNVX2",
        "outputId": "c82830bd-0066-432d-b3ca-12326ff22f14"
      },
      "execution_count": 6,
      "outputs": [
        {
          "output_type": "stream",
          "name": "stdout",
          "text": [
            "30\n",
            "100\n"
          ]
        }
      ]
    },
    {
      "cell_type": "code",
      "source": [
        "print(cal1.add(5))"
      ],
      "metadata": {
        "colab": {
          "base_uri": "https://localhost:8080/"
        },
        "id": "1DBK4hmhNaa5",
        "outputId": "cd0733d0-e00f-441a-ae3c-e36d57e7135a"
      },
      "execution_count": 7,
      "outputs": [
        {
          "output_type": "stream",
          "name": "stdout",
          "text": [
            "12\n"
          ]
        }
      ]
    },
    {
      "cell_type": "code",
      "source": [
        "class WaffleMachine:\n",
        "  pass"
      ],
      "metadata": {
        "id": "ct7IcfMMNdvq"
      },
      "execution_count": 10,
      "outputs": []
    },
    {
      "cell_type": "code",
      "source": [
        "# 객체 = 클래스()\n",
        "waffle=WaffleMachine()"
      ],
      "metadata": {
        "id": "pyYwUUGeNhLd"
      },
      "execution_count": 12,
      "outputs": []
    },
    {
      "cell_type": "code",
      "source": [
        "# 메모리의 0x78245da97d60에 저장된 WaffleMach 클래스의 객체\n",
        "waffle"
      ],
      "metadata": {
        "colab": {
          "base_uri": "https://localhost:8080/"
        },
        "id": "OMTduwkvNoTa",
        "outputId": "e60bf314-d141-4dfe-9045-cc5c5aef474b"
      },
      "execution_count": 14,
      "outputs": [
        {
          "output_type": "execute_result",
          "data": {
            "text/plain": [
              "<__main__.WaffleMachine at 0x78245da97d60>"
            ]
          },
          "metadata": {},
          "execution_count": 14
        }
      ]
    },
    {
      "cell_type": "markdown",
      "source": [
        "## 클래스의 수겅\n",
        "\n",
        "- 클래스는 객체가 가져야할 구성요소를 모두 가지고 있어야 함\n",
        "  - 객체가 가져야할 값, 기능\n",
        "    - 값 : 변수\n",
        "    - 기능 : 함수"
      ],
      "metadata": {
        "id": "HlS5SG9KN9Ns"
      }
    },
    {
      "cell_type": "markdown",
      "source": [
        "### 인스턴스 변수와 인스턴스 메소드\n",
        "\n",
        "- 인스턴스 변수 : 클래스를 기반으로 만들어지는 모든 객체들이 각각 따로 저장하는 변수\n",
        "  - 모든 인스턴스 변수는 self라는 키워드를 붙임\n",
        "  - self는 자기자긴을 나타내는 의미\n",
        "    - 자신이 가지고 있는 속성과 기능에 접근할 때는 self.식별자 형태로 접근\n",
        "\n",
        "  - 인스턴스 메소드 : 인스턴스 변수를 사용하는 함수\n",
        "    - 인스턴스 변수값에 따라서 각 객체마다 다르게 동작\n",
        "      - 첫번째 매개변수로 self를 추"
      ],
      "metadata": {
        "id": "733gYzD6OHzg"
      }
    },
    {
      "cell_type": "code",
      "source": [
        "# 예시1. Person 클래스를 정의\n",
        "class Person:\n",
        "  def who_am_i(self,name,age,tel,address):\n",
        "    # 인스턴스 메소드who_am_i\n",
        "    # 모든 Person 객체는 who_am_i() 메소드를 호출 가능\n",
        "    # self를 제외한 나머지 매개변수에 실제로 사용될 데이터가 정달\n",
        "\n",
        "    self.name=name\n",
        "    # 인스턴스 변수 name\n",
        "    # =오른쪽에 있는 name은 매개변수의 name\n",
        "    # who_am_i() 메소드를 호출할 때 전달된 name이 객체의 name이 됨\n",
        "\n",
        "    self.age=age\n",
        "    self.tel=tel\n",
        "    self.address=address"
      ],
      "metadata": {
        "id": "pQPCvqrZNwe9"
      },
      "execution_count": 15,
      "outputs": []
    },
    {
      "cell_type": "code",
      "source": [
        "# 객체 boy를 생성\n",
        "boy=Person()"
      ],
      "metadata": {
        "id": "kmDJTrRyPebv"
      },
      "execution_count": 16,
      "outputs": []
    },
    {
      "cell_type": "code",
      "source": [
        "boy.who_am_i(\"jhon\",15,\"123-1234\",\"Seoul\")"
      ],
      "metadata": {
        "id": "x2GVrt0GPjPV"
      },
      "execution_count": 17,
      "outputs": []
    },
    {
      "cell_type": "code",
      "source": [
        "print(boy.name)\n",
        "print(boy.age)\n",
        "print(boy.tel)\n",
        "print(boy.address)"
      ],
      "metadata": {
        "colab": {
          "base_uri": "https://localhost:8080/"
        },
        "id": "uSzNFdlkPqpO",
        "outputId": "f119e1b4-108c-440e-b27b-c81ccf8d7673"
      },
      "execution_count": 22,
      "outputs": [
        {
          "output_type": "stream",
          "name": "stdout",
          "text": [
            "jhon\n",
            "15\n",
            "123-1234\n",
            "Seoul\n"
          ]
        }
      ]
    },
    {
      "cell_type": "code",
      "source": [
        "# 객체 maria 생성()\n",
        "maria=Person()"
      ],
      "metadata": {
        "id": "N6E79_ZgPrxn"
      },
      "execution_count": 26,
      "outputs": []
    },
    {
      "cell_type": "code",
      "source": [
        "maria.name"
      ],
      "metadata": {
        "colab": {
          "base_uri": "https://localhost:8080/",
          "height": 146
        },
        "id": "Cnc2tXXyQSks",
        "outputId": "160544d1-6150-4a96-aa5e-e44e1d60b965"
      },
      "execution_count": 27,
      "outputs": [
        {
          "output_type": "error",
          "ename": "AttributeError",
          "evalue": "'Person' object has no attribute 'name'",
          "traceback": [
            "\u001b[0;31m---------------------------------------------------------------------------\u001b[0m",
            "\u001b[0;31mAttributeError\u001b[0m                            Traceback (most recent call last)",
            "\u001b[0;32m<ipython-input-27-1839723e383d>\u001b[0m in \u001b[0;36m<cell line: 1>\u001b[0;34m()\u001b[0m\n\u001b[0;32m----> 1\u001b[0;31m \u001b[0mmaria\u001b[0m\u001b[0;34m.\u001b[0m\u001b[0mname\u001b[0m\u001b[0;34m\u001b[0m\u001b[0;34m\u001b[0m\u001b[0m\n\u001b[0m",
            "\u001b[0;31mAttributeError\u001b[0m: 'Person' object has no attribute 'name'"
          ]
        }
      ]
    },
    {
      "cell_type": "code",
      "source": [
        "maria.who_am_i(\"maria\",29,\"567-5678\",\"Busan\")\n",
        "print(maria.name)"
      ],
      "metadata": {
        "colab": {
          "base_uri": "https://localhost:8080/"
        },
        "id": "SQtB4biIPwE6",
        "outputId": "3c0fc5f4-cd41-4fe0-dae4-87ddc418b26b"
      },
      "execution_count": 28,
      "outputs": [
        {
          "output_type": "stream",
          "name": "stdout",
          "text": [
            "maria\n"
          ]
        }
      ]
    },
    {
      "cell_type": "code",
      "source": [
        "# 예시2\n",
        "class Computer:\n",
        "  def set_spec(self,cpu,ram,vga,ssd):\n",
        "    self.cpu=cpu\n",
        "    self.ram=ram\n",
        "    self.vga=vga\n",
        "    self.ssd=ssd\n",
        "\n",
        "  def hardware_info(self):\n",
        "    print(f\"CPU = {self.cpu}\")\n",
        "    print(f\"RAM = {self.ram}\")\n",
        "    print(f\"VGA = {self.vga}\")\n",
        "    print(f\"SSD = {self.ssd}\")"
      ],
      "metadata": {
        "id": "riteB3vtPxZA"
      },
      "execution_count": 31,
      "outputs": []
    },
    {
      "cell_type": "code",
      "source": [
        "desktop=Computer()"
      ],
      "metadata": {
        "id": "mUish-3aQ5a6"
      },
      "execution_count": 32,
      "outputs": []
    },
    {
      "cell_type": "code",
      "source": [
        "desktop.set_spec(\"i9\",\"32GB\",\"GTX3080\",\"1TB\")"
      ],
      "metadata": {
        "id": "HxDP_7EhQ8bm"
      },
      "execution_count": 33,
      "outputs": []
    },
    {
      "cell_type": "code",
      "source": [
        "desktop.hardware_info()"
      ],
      "metadata": {
        "colab": {
          "base_uri": "https://localhost:8080/"
        },
        "id": "yc0FlFMCRGPf",
        "outputId": "a5c0bcdd-9856-4b5c-8d33-970826ca5a5c"
      },
      "execution_count": 34,
      "outputs": [
        {
          "output_type": "stream",
          "name": "stdout",
          "text": [
            "CPU = i9\n",
            "RAM = 32GB\n",
            "VGA = GTX3080\n",
            "SSD = 1TB\n"
          ]
        }
      ]
    },
    {
      "cell_type": "code",
      "source": [
        "# 예시3. 사칙연산\n",
        "class FourCal:\n",
        "  def set_data(self,first,second): # 메소드의 매개변수\n",
        "    self.first=first\n",
        "    self.second=second\n",
        "\n",
        "  def add(self):\n",
        "    result=self.first+self.second\n",
        "    return result\n",
        "\n",
        "  def mul(self):\n",
        "    result=self.first*self.second\n",
        "    return result\n",
        "\n",
        "  def sub(self):\n",
        "    result=self.first-self.second\n",
        "    return result\n",
        "\n",
        "  def div(self):\n",
        "    result=self.first/self.second\n",
        "    return result"
      ],
      "metadata": {
        "id": "6-uMiSqdRJAO"
      },
      "execution_count": 47,
      "outputs": []
    },
    {
      "cell_type": "code",
      "source": [
        "cal1=FourCal()\n",
        "cal2=FourCal()"
      ],
      "metadata": {
        "id": "U-uGagjlR9zc"
      },
      "execution_count": 48,
      "outputs": []
    },
    {
      "cell_type": "code",
      "source": [
        "cal1.set_data(4,2)\n",
        "cal2.set_data(3,8)"
      ],
      "metadata": {
        "id": "D-IIjm2oSEda"
      },
      "execution_count": 49,
      "outputs": []
    },
    {
      "cell_type": "code",
      "source": [
        "print(cal1.add())\n",
        "print(cal1.mul())\n",
        "print(cal1.sub())\n",
        "print(cal1.div())"
      ],
      "metadata": {
        "colab": {
          "base_uri": "https://localhost:8080/"
        },
        "id": "wGX8NlPySJbh",
        "outputId": "06f5adeb-4519-4a1f-d5c9-835457e647ee"
      },
      "execution_count": 50,
      "outputs": [
        {
          "output_type": "stream",
          "name": "stdout",
          "text": [
            "6\n",
            "8\n",
            "2\n",
            "2.0\n"
          ]
        }
      ]
    },
    {
      "cell_type": "code",
      "source": [
        "print(cal2.add())\n",
        "print(cal2.mul())\n",
        "print(cal2.sub())\n",
        "print(cal2.div())"
      ],
      "metadata": {
        "colab": {
          "base_uri": "https://localhost:8080/"
        },
        "id": "Xm-0SIWySRFi",
        "outputId": "d25c753c-7f29-4d2e-cf5b-62847485d4f9"
      },
      "execution_count": 51,
      "outputs": [
        {
          "output_type": "stream",
          "name": "stdout",
          "text": [
            "11\n",
            "24\n",
            "-5\n",
            "0.375\n"
          ]
        }
      ]
    },
    {
      "cell_type": "code",
      "source": [
        "# 현재의 FourCal 클래스 객체는 set_data 메소드를 실행해야하지만 first와 second가 생성됨\n",
        "test_const=FourCal()\n",
        "test_const.add()"
      ],
      "metadata": {
        "colab": {
          "base_uri": "https://localhost:8080/",
          "height": 311
        },
        "id": "Fa9vEcblSngG",
        "outputId": "431cf4a0-b20c-4436-e06e-0c04d256c831"
      },
      "execution_count": 52,
      "outputs": [
        {
          "output_type": "error",
          "ename": "AttributeError",
          "evalue": "'FourCal' object has no attribute 'first'",
          "traceback": [
            "\u001b[0;31m---------------------------------------------------------------------------\u001b[0m",
            "\u001b[0;31mAttributeError\u001b[0m                            Traceback (most recent call last)",
            "\u001b[0;32m<ipython-input-52-b1348a3e45ed>\u001b[0m in \u001b[0;36m<cell line: 3>\u001b[0;34m()\u001b[0m\n\u001b[1;32m      1\u001b[0m \u001b[0;31m# 현재의 FourCal 클래스 객체는 set_data 메소드를 실행해야하지만 first와 second가 생성됨\u001b[0m\u001b[0;34m\u001b[0m\u001b[0;34m\u001b[0m\u001b[0m\n\u001b[1;32m      2\u001b[0m \u001b[0mtest_const\u001b[0m\u001b[0;34m=\u001b[0m\u001b[0mFourCal\u001b[0m\u001b[0;34m(\u001b[0m\u001b[0;34m)\u001b[0m\u001b[0;34m\u001b[0m\u001b[0;34m\u001b[0m\u001b[0m\n\u001b[0;32m----> 3\u001b[0;31m \u001b[0mtest_const\u001b[0m\u001b[0;34m.\u001b[0m\u001b[0madd\u001b[0m\u001b[0;34m(\u001b[0m\u001b[0;34m)\u001b[0m\u001b[0;34m\u001b[0m\u001b[0;34m\u001b[0m\u001b[0m\n\u001b[0m",
            "\u001b[0;32m<ipython-input-47-799b541c2aae>\u001b[0m in \u001b[0;36madd\u001b[0;34m(self)\u001b[0m\n\u001b[1;32m      6\u001b[0m \u001b[0;34m\u001b[0m\u001b[0m\n\u001b[1;32m      7\u001b[0m   \u001b[0;32mdef\u001b[0m \u001b[0madd\u001b[0m\u001b[0;34m(\u001b[0m\u001b[0mself\u001b[0m\u001b[0;34m)\u001b[0m\u001b[0;34m:\u001b[0m\u001b[0;34m\u001b[0m\u001b[0;34m\u001b[0m\u001b[0m\n\u001b[0;32m----> 8\u001b[0;31m     \u001b[0mresult\u001b[0m\u001b[0;34m=\u001b[0m\u001b[0mself\u001b[0m\u001b[0;34m.\u001b[0m\u001b[0mfirst\u001b[0m\u001b[0;34m+\u001b[0m\u001b[0mself\u001b[0m\u001b[0;34m.\u001b[0m\u001b[0msecond\u001b[0m\u001b[0;34m\u001b[0m\u001b[0;34m\u001b[0m\u001b[0m\n\u001b[0m\u001b[1;32m      9\u001b[0m     \u001b[0;32mreturn\u001b[0m \u001b[0mresult\u001b[0m\u001b[0;34m\u001b[0m\u001b[0;34m\u001b[0m\u001b[0m\n\u001b[1;32m     10\u001b[0m \u001b[0;34m\u001b[0m\u001b[0m\n",
            "\u001b[0;31mAttributeError\u001b[0m: 'FourCal' object has no attribute 'first'"
          ]
        }
      ]
    },
    {
      "cell_type": "markdown",
      "source": [
        "# 생성자\n",
        "\n",
        "- 객체가 생성될 때 자동으로 호출되는 메소드"
      ],
      "metadata": {
        "id": "nIBNM3a7TGne"
      }
    },
    {
      "cell_type": "code",
      "source": [
        "class FourCal:\n",
        "    def __init__(self, first, second): # 생성자\n",
        "        self.first = first\n",
        "        self.second = second\n",
        "\n",
        "    def set_data(self, first, second): # 메소드의 매개변수\n",
        "        self.first = first\n",
        "        self.second = second\n",
        "\n",
        "    def add(self):\n",
        "        result = self.first + self.second\n",
        "        return result\n",
        "\n",
        "    def mul(self):\n",
        "        result = self.first * self.second\n",
        "        return result\n",
        "\n",
        "    def sub(self):\n",
        "        result = self.first - self.second\n",
        "        return result\n",
        "\n",
        "    def div(self):\n",
        "        result = self.first / self.second\n",
        "        return result"
      ],
      "metadata": {
        "id": "C3neKJ1rTCYg"
      },
      "execution_count": 53,
      "outputs": []
    },
    {
      "cell_type": "code",
      "source": [
        "# 생성자의 매개변수에 입력값을 전달해야 객체를 생성할 수 있음\n",
        "test_const = FourCal()"
      ],
      "metadata": {
        "colab": {
          "base_uri": "https://localhost:8080/",
          "height": 165
        },
        "id": "N4VEOXEXTT8C",
        "outputId": "c60d61be-fb63-4df3-b9b1-f85d6b435d04"
      },
      "execution_count": 54,
      "outputs": [
        {
          "output_type": "error",
          "ename": "TypeError",
          "evalue": "FourCal.__init__() missing 2 required positional arguments: 'first' and 'second'",
          "traceback": [
            "\u001b[0;31m---------------------------------------------------------------------------\u001b[0m",
            "\u001b[0;31mTypeError\u001b[0m                                 Traceback (most recent call last)",
            "\u001b[0;32m<ipython-input-54-161ec3e45cac>\u001b[0m in \u001b[0;36m<cell line: 2>\u001b[0;34m()\u001b[0m\n\u001b[1;32m      1\u001b[0m \u001b[0;31m# 생성자의 매개변수에 입력값을 전달해야 객체를 생성할 수 있음\u001b[0m\u001b[0;34m\u001b[0m\u001b[0;34m\u001b[0m\u001b[0m\n\u001b[0;32m----> 2\u001b[0;31m \u001b[0mtest_const\u001b[0m \u001b[0;34m=\u001b[0m \u001b[0mFourCal\u001b[0m\u001b[0;34m(\u001b[0m\u001b[0;34m)\u001b[0m\u001b[0;34m\u001b[0m\u001b[0;34m\u001b[0m\u001b[0m\n\u001b[0m",
            "\u001b[0;31mTypeError\u001b[0m: FourCal.__init__() missing 2 required positional arguments: 'first' and 'second'"
          ]
        }
      ]
    },
    {
      "cell_type": "code",
      "source": [
        "test_const = FourCal(4, 2)\n",
        "print(test_const.first)\n",
        "print(test_const.second)"
      ],
      "metadata": {
        "colab": {
          "base_uri": "https://localhost:8080/"
        },
        "id": "yvhTs0ZwTVvD",
        "outputId": "a3cbca06-03b3-4282-947f-7b8c16e8ebb9"
      },
      "execution_count": 55,
      "outputs": [
        {
          "output_type": "stream",
          "name": "stdout",
          "text": [
            "4\n",
            "2\n"
          ]
        }
      ]
    },
    {
      "cell_type": "code",
      "source": [
        "print(test_const.add())\n",
        "print(test_const.div())"
      ],
      "metadata": {
        "colab": {
          "base_uri": "https://localhost:8080/"
        },
        "id": "NiZme3ypTY-a",
        "outputId": "0161c6cb-5a90-48f6-d018-0b5f5c4a4709"
      },
      "execution_count": 56,
      "outputs": [
        {
          "output_type": "stream",
          "name": "stdout",
          "text": [
            "6\n",
            "2.0\n"
          ]
        }
      ]
    },
    {
      "cell_type": "code",
      "source": [],
      "metadata": {
        "id": "yeg94ZobTatw"
      },
      "execution_count": null,
      "outputs": []
    }
  ]
}