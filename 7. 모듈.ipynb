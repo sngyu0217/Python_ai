{
 "cells": [
  {
   "cell_type": "markdown",
   "id": "3a3f1351",
   "metadata": {},
   "source": [
    "# 모듈이란\n",
    "\n",
    "- 함수나 변수 또는 클래스를 모아 둔 파일\n",
    "- 다른 파이썬 프로그램에서 불러와 사용할 수 있게 만든 파이썬 파일\n",
    "- 종류\n",
    "    - 표준 모듈 : 파이썬에 기본적으로 내장되어 있는 모듈\n",
    "    - 외부 모듈 : 다른 사람들이 만들어서 공개한 모듈"
   ]
  },
  {
   "cell_type": "markdown",
   "id": "651544f1",
   "metadata": {},
   "source": [
    "# 모듈 사용\n",
    "\n",
    "- import 모듈\n",
    "- from 모듈 import 함수1, 함수2\n",
    "- from 모듈 import *"
   ]
  },
  {
   "cell_type": "code",
   "execution_count": 1,
   "id": "48ff0ab4",
   "metadata": {},
   "outputs": [],
   "source": [
    "import add_sub_module"
   ]
  },
  {
   "cell_type": "code",
   "execution_count": 4,
   "id": "fac4ed21",
   "metadata": {},
   "outputs": [
    {
     "name": "stdout",
     "output_type": "stream",
     "text": [
      "7\n"
     ]
    }
   ],
   "source": [
    "print(add_sub_module.add(3,4)) # . : ~의, ~안에"
   ]
  },
  {
   "cell_type": "code",
   "execution_count": 5,
   "id": "f79e4d1a",
   "metadata": {},
   "outputs": [
    {
     "name": "stdout",
     "output_type": "stream",
     "text": [
      "2\n"
     ]
    }
   ],
   "source": [
    "print(add_sub_module.sub(4,2))"
   ]
  },
  {
   "cell_type": "code",
   "execution_count": 7,
   "id": "f34cc75c",
   "metadata": {},
   "outputs": [],
   "source": [
    "from add_sub_module import add,sub"
   ]
  },
  {
   "cell_type": "code",
   "execution_count": 8,
   "id": "dd3914b9",
   "metadata": {},
   "outputs": [
    {
     "data": {
      "text/plain": [
       "7"
      ]
     },
     "execution_count": 8,
     "metadata": {},
     "output_type": "execute_result"
    }
   ],
   "source": [
    "add(3,4)"
   ]
  },
  {
   "cell_type": "code",
   "execution_count": 9,
   "id": "29deb108",
   "metadata": {},
   "outputs": [
    {
     "data": {
      "text/plain": [
       "<function add_sub_module.add(a, b)>"
      ]
     },
     "execution_count": 9,
     "metadata": {},
     "output_type": "execute_result"
    }
   ],
   "source": [
    "add"
   ]
  },
  {
   "cell_type": "code",
   "execution_count": 10,
   "id": "f560d477",
   "metadata": {},
   "outputs": [
    {
     "data": {
      "text/plain": [
       "1"
      ]
     },
     "execution_count": 10,
     "metadata": {},
     "output_type": "execute_result"
    }
   ],
   "source": [
    "sub(4,3)"
   ]
  },
  {
   "cell_type": "code",
   "execution_count": 12,
   "id": "fa7fe83f",
   "metadata": {},
   "outputs": [],
   "source": [
    "import converter"
   ]
  },
  {
   "cell_type": "code",
   "execution_count": 13,
   "id": "97a5a91f",
   "metadata": {},
   "outputs": [
    {
     "name": "stdout",
     "output_type": "stream",
     "text": [
      "99.41936\n"
     ]
    }
   ],
   "source": [
    "miles=converter.kilometer_to_miles(160)\n",
    "print(miles)"
   ]
  },
  {
   "cell_type": "code",
   "execution_count": 14,
   "id": "e7b7844d",
   "metadata": {},
   "outputs": [
    {
     "name": "stdout",
     "output_type": "stream",
     "text": [
      "2.20462\n"
     ]
    }
   ],
   "source": [
    "pounds=converter.gram_to_pounds(1000)\n",
    "print(pounds)"
   ]
  },
  {
   "cell_type": "code",
   "execution_count": 15,
   "id": "4186fcc3",
   "metadata": {},
   "outputs": [],
   "source": [
    "from converter import *   # * : 모든 것"
   ]
  },
  {
   "cell_type": "code",
   "execution_count": 17,
   "id": "e68b6bde",
   "metadata": {},
   "outputs": [
    {
     "name": "stdout",
     "output_type": "stream",
     "text": [
      "86.99194\n"
     ]
    }
   ],
   "source": [
    "miles=kilometer_to_miles(140)\n",
    "print(miles)"
   ]
  },
  {
   "cell_type": "code",
   "execution_count": 16,
   "id": "3900b10d",
   "metadata": {},
   "outputs": [
    {
     "name": "stdout",
     "output_type": "stream",
     "text": [
      "0.220462\n"
     ]
    }
   ],
   "source": [
    "pounds=gram_to_pounds(100)\n",
    "print(pounds)"
   ]
  },
  {
   "cell_type": "markdown",
   "id": "4466be05",
   "metadata": {},
   "source": [
    "# 별칭 사용하기"
   ]
  },
  {
   "cell_type": "code",
   "execution_count": 18,
   "id": "2be283d3",
   "metadata": {},
   "outputs": [],
   "source": [
    "import converter as cvt"
   ]
  },
  {
   "cell_type": "code",
   "execution_count": 19,
   "id": "27292f02",
   "metadata": {},
   "outputs": [
    {
     "name": "stdout",
     "output_type": "stream",
     "text": [
      "93.20565\n"
     ]
    }
   ],
   "source": [
    "miles=cvt.kilometer_to_miles(150)\n",
    "print(miles)"
   ]
  },
  {
   "cell_type": "code",
   "execution_count": 21,
   "id": "6037d8f3",
   "metadata": {},
   "outputs": [
    {
     "name": "stdout",
     "output_type": "stream",
     "text": [
      "3.968316\n"
     ]
    }
   ],
   "source": [
    "pounds=cvt.gram_to_pounds(1800)\n",
    "print(pounds)"
   ]
  },
  {
   "cell_type": "code",
   "execution_count": 23,
   "id": "8b455bfd",
   "metadata": {},
   "outputs": [],
   "source": [
    "from converter import kilometer_to_miles as k2m"
   ]
  },
  {
   "cell_type": "code",
   "execution_count": 24,
   "id": "0c5f71a3",
   "metadata": {},
   "outputs": [
    {
     "name": "stdout",
     "output_type": "stream",
     "text": [
      "86.99194\n"
     ]
    }
   ],
   "source": [
    "miles=k2m(140)\n",
    "print(miles)"
   ]
  },
  {
   "cell_type": "markdown",
   "id": "7cefe995",
   "metadata": {},
   "source": [
    "# 표준 모듈\n",
    "\n",
    "- 파이썬에 기본적으로 설치되어 있는 모듈\n",
    "- 별도의 설치 없이 import 사용 가능"
   ]
  },
  {
   "cell_type": "markdown",
   "id": "ee2b8b82",
   "metadata": {},
   "source": [
    "## math\n",
    "\n",
    "- 수학과 관련된 값과 함수를 제공"
   ]
  },
  {
   "cell_type": "code",
   "execution_count": 25,
   "id": "2a81d503",
   "metadata": {},
   "outputs": [],
   "source": [
    "import math"
   ]
  },
  {
   "cell_type": "code",
   "execution_count": 26,
   "id": "ced9c827",
   "metadata": {},
   "outputs": [
    {
     "data": {
      "text/plain": [
       "3.141592653589793"
      ]
     },
     "execution_count": 26,
     "metadata": {},
     "output_type": "execute_result"
    }
   ],
   "source": [
    "# 원주율\n",
    "\n",
    "math.pi"
   ]
  },
  {
   "cell_type": "code",
   "execution_count": 27,
   "id": "85fc43e5",
   "metadata": {},
   "outputs": [
    {
     "name": "stdout",
     "output_type": "stream",
     "text": [
      "2\n",
      "1\n"
     ]
    }
   ],
   "source": [
    "# 올림, 내림\n",
    "print(math.ceil(1.1)) # 올림\n",
    "print(math.floor(1.9)) # 내림"
   ]
  },
  {
   "cell_type": "code",
   "execution_count": 29,
   "id": "d7bb028f",
   "metadata": {},
   "outputs": [
    {
     "name": "stdout",
     "output_type": "stream",
     "text": [
      "-1\n",
      "-2\n"
     ]
    }
   ],
   "source": [
    "# 소수점 이하 절사\n",
    "print(math.trunc(-1.9)) # 절사 : 소수점 이하를 제거한다\n",
    "print(math.floor(-1.9)) # 내림"
   ]
  },
  {
   "cell_type": "code",
   "execution_count": 31,
   "id": "6e610b72",
   "metadata": {},
   "outputs": [
    {
     "data": {
      "text/plain": [
       "5.0"
      ]
     },
     "execution_count": 31,
     "metadata": {},
     "output_type": "execute_result"
    }
   ],
   "source": [
    "# 제곱근\n",
    "math.sqrt(25) # 루트 25"
   ]
  },
  {
   "cell_type": "markdown",
   "id": "00603df6",
   "metadata": {},
   "source": [
    "##  random\n",
    "\n",
    "- 난수 생성 모듈"
   ]
  },
  {
   "cell_type": "code",
   "execution_count": 35,
   "id": "1440610f",
   "metadata": {},
   "outputs": [],
   "source": [
    "import random"
   ]
  },
  {
   "cell_type": "markdown",
   "id": "93769461",
   "metadata": {},
   "source": [
    "- randint()\n",
    "    - 전달하는 두 인수 사이의 정수를 임의로 생성"
   ]
  },
  {
   "cell_type": "code",
   "execution_count": 68,
   "id": "88f748d7",
   "metadata": {},
   "outputs": [
    {
     "data": {
      "text/plain": [
       "10"
      ]
     },
     "execution_count": 68,
     "metadata": {},
     "output_type": "execute_result"
    }
   ],
   "source": [
    "random.randint(1,10) # 랜덤한 수 중에 10도 나온다"
   ]
  },
  {
   "cell_type": "markdown",
   "id": "eea27a63",
   "metadata": {},
   "source": [
    "- randrange()\n",
    "    - 특정 범위에 속한 정수 중에서 하나를 임의로 생성"
   ]
  },
  {
   "cell_type": "code",
   "execution_count": 124,
   "id": "17244725",
   "metadata": {},
   "outputs": [
    {
     "data": {
      "text/plain": [
       "9"
      ]
     },
     "execution_count": 124,
     "metadata": {},
     "output_type": "execute_result"
    }
   ],
   "source": [
    "random.randrange(10)"
   ]
  },
  {
   "cell_type": "code",
   "execution_count": 70,
   "id": "1ae19c9b",
   "metadata": {},
   "outputs": [
    {
     "data": {
      "text/plain": [
       "5"
      ]
     },
     "execution_count": 70,
     "metadata": {},
     "output_type": "execute_result"
    }
   ],
   "source": [
    "random.randrange(1,10,2) # 홀수만 출력 가능"
   ]
  },
  {
   "cell_type": "markdown",
   "id": "64658e66",
   "metadata": {},
   "source": [
    "- random()\n",
    "    - 0 이상 1미만 범위에서 임의의 실수를 생성\n",
    "    - 0% 이상 100% 미만으로 확률을 처리할 때도 사용"
   ]
  },
  {
   "cell_type": "code",
   "execution_count": 151,
   "id": "62a534ca",
   "metadata": {},
   "outputs": [
    {
     "data": {
      "text/plain": [
       "0.9635789143997707"
      ]
     },
     "execution_count": 151,
     "metadata": {},
     "output_type": "execute_result"
    }
   ],
   "source": [
    "random.random()"
   ]
  },
  {
   "cell_type": "code",
   "execution_count": 173,
   "id": "7e901319",
   "metadata": {},
   "outputs": [
    {
     "name": "stdout",
     "output_type": "stream",
     "text": [
      "안녕하세요\n"
     ]
    }
   ],
   "source": [
    "# 50% 확률로 안녕하세요를 출력하는 코드\n",
    "\n",
    "if random.random()<0.5:\n",
    "    print(\"안녕하세요\")"
   ]
  },
  {
   "cell_type": "markdown",
   "id": "2a66ae1d",
   "metadata": {},
   "source": [
    "- choice()\n",
    "    - 전달된 시퀀스 자료형에 속한 요소 중에서 하나를 임의로 반환"
   ]
  },
  {
   "cell_type": "code",
   "execution_count": 184,
   "id": "ed23eb77",
   "metadata": {},
   "outputs": [
    {
     "data": {
      "text/plain": [
       "'summer'"
      ]
     },
     "execution_count": 184,
     "metadata": {},
     "output_type": "execute_result"
    }
   ],
   "source": [
    "seasons=[\"spring\",\"summer\",\"fall\",\"winter\"]\n",
    "random.choice(seasons)"
   ]
  },
  {
   "cell_type": "markdown",
   "id": "ee6801e0",
   "metadata": {},
   "source": [
    "- sample()\n",
    "    - 전달된 시퀀스 자료형에 속한 요소 중에 지정된 개수의 요소를 임의로 반환\n",
    "    - 반환 결과는 리스트 자료형\n",
    "    - 중복 없이 선택"
   ]
  },
  {
   "cell_type": "code",
   "execution_count": 185,
   "id": "bcb108b6",
   "metadata": {},
   "outputs": [
    {
     "data": {
      "text/plain": [
       "[27, 8, 21, 16, 6, 44]"
      ]
     },
     "execution_count": 185,
     "metadata": {},
     "output_type": "execute_result"
    }
   ],
   "source": [
    "random.sample(range(1,46),6) # 1부터 45까지 수열 만들어지고, 6개의 요소를 뽑는다"
   ]
  },
  {
   "cell_type": "code",
   "execution_count": 187,
   "id": "c2b501d7",
   "metadata": {},
   "outputs": [
    {
     "data": {
      "text/plain": [
       "[5, 9, 10, 26, 30, 38]"
      ]
     },
     "execution_count": 187,
     "metadata": {},
     "output_type": "execute_result"
    }
   ],
   "source": [
    "sorted(random.sample(range(1,46),6))"
   ]
  },
  {
   "cell_type": "markdown",
   "id": "3ea8ec78",
   "metadata": {},
   "source": [
    "- shuffle()\n",
    "    - 임의로 섞는 것\n",
    "    - 전달된 시퀀스 자료형에 속한 요소의 순서를 임의로 조정하여 다시 재배치 (리스트)\n",
    "    - 실제로 전달된 시퀀스 자료형의 순서가 재배치 됨\n",
    "    - str 이나 튜플 자료형을 전달하면 에러"
   ]
  },
  {
   "cell_type": "code",
   "execution_count": 189,
   "id": "ce635c5c",
   "metadata": {},
   "outputs": [
    {
     "data": {
      "text/plain": [
       "[1, 2, 3, 4, 5]"
      ]
     },
     "execution_count": 189,
     "metadata": {},
     "output_type": "execute_result"
    }
   ],
   "source": [
    "my_list=[1,2,3,4,5]\n",
    "my_list"
   ]
  },
  {
   "cell_type": "code",
   "execution_count": 191,
   "id": "a9d94bcd",
   "metadata": {},
   "outputs": [
    {
     "data": {
      "text/plain": [
       "[1, 5, 4, 2, 3]"
      ]
     },
     "execution_count": 191,
     "metadata": {},
     "output_type": "execute_result"
    }
   ],
   "source": [
    "random.shuffle(my_list) # 리스트가 바로 바뀜/ 파괴적인 명령어\n",
    "my_list"
   ]
  },
  {
   "cell_type": "markdown",
   "id": "7eb69178",
   "metadata": {},
   "source": [
    "## time\n",
    "\n",
    "- 시간처리와 관련된 모듈"
   ]
  },
  {
   "cell_type": "code",
   "execution_count": 192,
   "id": "bdb30e6c",
   "metadata": {},
   "outputs": [],
   "source": [
    "import time"
   ]
  },
  {
   "cell_type": "markdown",
   "id": "42163442",
   "metadata": {},
   "source": [
    "- time()\n",
    "    - 1970년 1월 1일 0시 0분 0초부터 현재까지 경과된 시간을 반환\n",
    "    - 소수점 이하는 마이크로초를 의미"
   ]
  },
  {
   "cell_type": "code",
   "execution_count": 242,
   "id": "e2253932",
   "metadata": {},
   "outputs": [
    {
     "data": {
      "text/plain": [
       "1712234688.3265646"
      ]
     },
     "execution_count": 242,
     "metadata": {},
     "output_type": "execute_result"
    }
   ],
   "source": [
    "time.time() # 컴퓨터는 과거일수록 낮은 값을 갖고있다고 생각하고 미래로 갈수록 높은 값을 갖고있다고 생각한다"
   ]
  },
  {
   "cell_type": "markdown",
   "id": "ff8aec3e",
   "metadata": {},
   "source": [
    "- ctime()\n",
    "    - 인수로 전달된 시간을 형식으로 갖춰 반환"
   ]
  },
  {
   "cell_type": "code",
   "execution_count": 243,
   "id": "ca744c35",
   "metadata": {},
   "outputs": [
    {
     "data": {
      "text/plain": [
       "'Thu Apr  4 21:46:24 2024'"
      ]
     },
     "execution_count": 243,
     "metadata": {},
     "output_type": "execute_result"
    }
   ],
   "source": [
    "time.ctime(time.time())"
   ]
  },
  {
   "cell_type": "markdown",
   "id": "dd0f4d51",
   "metadata": {},
   "source": [
    "- sleep()\n",
    "    - 인수로 전달된 초만큼 일시정지"
   ]
  },
  {
   "cell_type": "code",
   "execution_count": 244,
   "id": "faf9556d",
   "metadata": {},
   "outputs": [],
   "source": [
    "# 3토간 일시정지\n",
    "time.sleep(3)"
   ]
  },
  {
   "cell_type": "code",
   "execution_count": 245,
   "id": "e36a08c5",
   "metadata": {},
   "outputs": [
    {
     "name": "stdout",
     "output_type": "stream",
     "text": [
      "3.0002384185791016\n"
     ]
    }
   ],
   "source": [
    "S=time.time()\n",
    "\n",
    "time.sleep(3)\n",
    "print(time.time()-S)"
   ]
  },
  {
   "cell_type": "code",
   "execution_count": null,
   "id": "a79a7d2c",
   "metadata": {},
   "outputs": [],
   "source": []
  },
  {
   "cell_type": "code",
   "execution_count": null,
   "id": "7ff73073",
   "metadata": {},
   "outputs": [],
   "source": []
  }
 ],
 "metadata": {
  "kernelspec": {
   "display_name": "Python 3 (ipykernel)",
   "language": "python",
   "name": "python3"
  },
  "language_info": {
   "codemirror_mode": {
    "name": "ipython",
    "version": 3
   },
   "file_extension": ".py",
   "mimetype": "text/x-python",
   "name": "python",
   "nbconvert_exporter": "python",
   "pygments_lexer": "ipython3",
   "version": "3.11.4"
  }
 },
 "nbformat": 4,
 "nbformat_minor": 5
}
