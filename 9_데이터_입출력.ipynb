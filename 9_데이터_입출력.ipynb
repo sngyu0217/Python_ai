{
  "nbformat": 4,
  "nbformat_minor": 0,
  "metadata": {
    "colab": {
      "provenance": [],
      "authorship_tag": "ABX9TyOggB8caFfsdOgj5HSPFjtM",
      "include_colab_link": true
    },
    "kernelspec": {
      "name": "python3",
      "display_name": "Python 3"
    },
    "language_info": {
      "name": "python"
    }
  },
  "cells": [
    {
      "cell_type": "markdown",
      "metadata": {
        "id": "view-in-github",
        "colab_type": "text"
      },
      "source": [
        "<a href=\"https://colab.research.google.com/github/sngyu0217/Python_ai/blob/main/9_%EB%8D%B0%EC%9D%B4%ED%84%B0_%EC%9E%85%EC%B6%9C%EB%A0%A5.ipynb\" target=\"_parent\"><img src=\"https://colab.research.google.com/assets/colab-badge.svg\" alt=\"Open In Colab\"/></a>"
      ]
    },
    {
      "cell_type": "markdown",
      "source": [
        "# 사용자 입력\n",
        "\n",
        "- 사용자가 값을 입력하게 하고 싶을 때"
      ],
      "metadata": {
        "id": "l2RPVQhHrw6h"
      }
    },
    {
      "cell_type": "markdown",
      "source": [
        "## input"
      ],
      "metadata": {
        "id": "myLFIlsCrxxJ"
      }
    },
    {
      "cell_type": "code",
      "execution_count": 1,
      "metadata": {
        "colab": {
          "base_uri": "https://localhost:8080/"
        },
        "id": "8vzcL4t4rswU",
        "outputId": "0a70015a-dd46-4059-c718-047e7f43dd35"
      },
      "outputs": [
        {
          "name": "stdout",
          "output_type": "stream",
          "text": [
            "python\n"
          ]
        }
      ],
      "source": [
        "a=input()"
      ]
    },
    {
      "cell_type": "code",
      "source": [
        "print(a)"
      ],
      "metadata": {
        "colab": {
          "base_uri": "https://localhost:8080/"
        },
        "id": "sY54H5Ndr6ry",
        "outputId": "cb09b47d-d211-42c9-f474-aecb90b64583"
      },
      "execution_count": 2,
      "outputs": [
        {
          "output_type": "stream",
          "name": "stdout",
          "text": [
            "python\n"
          ]
        }
      ]
    },
    {
      "cell_type": "code",
      "source": [
        "number=input(\"숫자를 입력하세요 :\")"
      ],
      "metadata": {
        "colab": {
          "base_uri": "https://localhost:8080/"
        },
        "id": "OCiKqBUNsA_a",
        "outputId": "8cdcefd2-0c8d-440b-e499-d7cd57db67da"
      },
      "execution_count": 3,
      "outputs": [
        {
          "name": "stdout",
          "output_type": "stream",
          "text": [
            "숫자를 입력하세요 :123\n"
          ]
        }
      ]
    },
    {
      "cell_type": "code",
      "source": [
        "print(number)"
      ],
      "metadata": {
        "colab": {
          "base_uri": "https://localhost:8080/"
        },
        "id": "gZtQ-o7fsFwO",
        "outputId": "321531c6-02be-4254-e48d-7ba2b6d79a03"
      },
      "execution_count": 4,
      "outputs": [
        {
          "output_type": "stream",
          "name": "stdout",
          "text": [
            "123\n"
          ]
        }
      ]
    },
    {
      "cell_type": "code",
      "source": [
        "# input은 입력되는 모든 데이터를 문자열로 취급함\n",
        "print(type(number))"
      ],
      "metadata": {
        "colab": {
          "base_uri": "https://localhost:8080/"
        },
        "id": "PgAq37xjsInO",
        "outputId": "7bdf3168-da08-41a2-a47b-313e542f6494"
      },
      "execution_count": 5,
      "outputs": [
        {
          "output_type": "stream",
          "name": "stdout",
          "text": [
            "<class 'str'>\n"
          ]
        }
      ]
    },
    {
      "cell_type": "markdown",
      "source": [
        "## 파일 생성\n",
        "\n",
        "- 파일 객체 = open(파일 이름(경로), 파일열기모드)"
      ],
      "metadata": {
        "id": "VXrbHG2nsSqi"
      }
    },
    {
      "cell_type": "code",
      "source": [
        "f=open(\"new_file.txt\",\"w\") # w:쓰기모드 / 쓰기모드는 파일이 없을 때 새로 만들어준다\n",
        "f.close() #파일 닫기"
      ],
      "metadata": {
        "id": "zUjLyZIWsUdY"
      },
      "execution_count": null,
      "outputs": []
    },
    {
      "cell_type": "markdown",
      "source": [
        "- 파일 열기 모드\n",
        "  - r(읽기)\n",
        "    - 파일을 읽기만 할 때\n",
        "    - 파일이 없으면 error\n",
        "\n",
        "  - w(쓰기)\n",
        "    - 파일의 내용을 쓸 때\n",
        "    - 파일이 없으면 새로 만듦\n",
        "    - 기존 파일에 있던 데이터를 완전히 지우고 다시 씀\n",
        "\n",
        "  - a(추가)\n",
        "    - 파일의 마지막에 새로운 내용을 추가할 때\n",
        "    - 파일이 없으면 새로 만듦"
      ],
      "metadata": {
        "id": "-Kk0VKLJsUJk"
      }
    },
    {
      "cell_type": "markdown",
      "source": [
        "## 파일 출력"
      ],
      "metadata": {
        "id": "mHAhgTYgtA0T"
      }
    },
    {
      "cell_type": "code",
      "source": [
        "f=open(\"new_file.txt\",\"w\")\n",
        "\n",
        "for i in range(1,11):\n",
        "  f.write(str(i)+\"\\n\")\n",
        "\n",
        "f.close()"
      ],
      "metadata": {
        "id": "0sbKoV18sONZ"
      },
      "execution_count": 6,
      "outputs": []
    },
    {
      "cell_type": "markdown",
      "source": [
        "## 파일 입력\n",
        "\n",
        "- readline()\n",
        "  - 파일의 첫 번째 줄을 읽음\n",
        "  - 모든 줄을 읽고 싶다면 반복문을 작성\n",
        "\n",
        "-  readlines()\n",
        "  - 파일의 모든 줄을 읽어서 각각의 줄을 요소로 갖는 리스트가 반환됨\n",
        "\n",
        "- read()\n",
        "  - 파일 내용 전체를 문자열로 반환"
      ],
      "metadata": {
        "id": "r0hdcBjqtTwW"
      }
    },
    {
      "cell_type": "code",
      "source": [
        "#readline()\n",
        "f=open(\"new_file.txt\",\"r\")\n",
        "\n",
        "# 파일의 첫 번째 줄을 읽음\n",
        "line=f.readline()\n",
        "\n",
        "print(line)\n",
        "f.close()"
      ],
      "metadata": {
        "colab": {
          "base_uri": "https://localhost:8080/"
        },
        "id": "BK_L_rD3tRc6",
        "outputId": "9665afa7-087e-40e2-d4b4-7af9ce142f24"
      },
      "execution_count": 7,
      "outputs": [
        {
          "output_type": "stream",
          "name": "stdout",
          "text": [
            "1\n",
            "\n"
          ]
        }
      ]
    },
    {
      "cell_type": "code",
      "source": [
        "# 모든 줄을 읽고 싶다면 반복문 작성\n",
        "f=open(\"new_file.txt\",\"r\")\n",
        "\n",
        "while True:\n",
        "  line=f.readline()\n",
        "\n",
        "  if not line:\n",
        "    break\n",
        "\n",
        "  print(line)\n",
        "\n",
        "f.close()"
      ],
      "metadata": {
        "colab": {
          "base_uri": "https://localhost:8080/"
        },
        "id": "eHZEWmJZuEYd",
        "outputId": "8563380c-d835-4322-85e2-f8a9b692e8d6"
      },
      "execution_count": 8,
      "outputs": [
        {
          "output_type": "stream",
          "name": "stdout",
          "text": [
            "1\n",
            "\n",
            "2\n",
            "\n",
            "3\n",
            "\n",
            "4\n",
            "\n",
            "5\n",
            "\n",
            "6\n",
            "\n",
            "7\n",
            "\n",
            "8\n",
            "\n",
            "9\n",
            "\n",
            "10\n",
            "\n"
          ]
        }
      ]
    },
    {
      "cell_type": "code",
      "source": [
        "#readlines()\n",
        "f=open(\"new_file.txt\",\"r\")\n",
        "\n",
        "lines=f.readlines()\n",
        "\n",
        "f.close()"
      ],
      "metadata": {
        "id": "Jho8L7KhuVsS"
      },
      "execution_count": 9,
      "outputs": []
    },
    {
      "cell_type": "code",
      "source": [
        "lines"
      ],
      "metadata": {
        "colab": {
          "base_uri": "https://localhost:8080/"
        },
        "id": "kPQfax1YuhSO",
        "outputId": "d117ef4f-7ac9-407f-d1b0-11e7ee120906"
      },
      "execution_count": 10,
      "outputs": [
        {
          "output_type": "execute_result",
          "data": {
            "text/plain": [
              "['1\\n', '2\\n', '3\\n', '4\\n', '5\\n', '6\\n', '7\\n', '8\\n', '9\\n', '10\\n']"
            ]
          },
          "metadata": {},
          "execution_count": 10
        }
      ]
    },
    {
      "cell_type": "code",
      "source": [
        "#read()\n",
        "f=open(\"new_file.txt\",\"r\")\n",
        "\n",
        "data=f.read()\n",
        "\n",
        "f.close()"
      ],
      "metadata": {
        "id": "SW3pkUpyuiaU"
      },
      "execution_count": 11,
      "outputs": []
    },
    {
      "cell_type": "code",
      "source": [
        "data"
      ],
      "metadata": {
        "colab": {
          "base_uri": "https://localhost:8080/",
          "height": 35
        },
        "id": "80b7ENbRuprz",
        "outputId": "03894485-96b7-4298-dfa8-eb4f00b3573e"
      },
      "execution_count": 12,
      "outputs": [
        {
          "output_type": "execute_result",
          "data": {
            "text/plain": [
              "'1\\n2\\n3\\n4\\n5\\n6\\n7\\n8\\n9\\n10\\n'"
            ],
            "application/vnd.google.colaboratory.intrinsic+json": {
              "type": "string"
            }
          },
          "metadata": {},
          "execution_count": 12
        }
      ]
    },
    {
      "cell_type": "code",
      "source": [],
      "metadata": {
        "id": "QagH2wjvurHk"
      },
      "execution_count": null,
      "outputs": []
    }
  ]
}