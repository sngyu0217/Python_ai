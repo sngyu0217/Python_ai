{
  "nbformat": 4,
  "nbformat_minor": 0,
  "metadata": {
    "colab": {
      "provenance": [],
      "authorship_tag": "ABX9TyPwuvYo/+DQE9w3XqjOwlUb",
      "include_colab_link": true
    },
    "kernelspec": {
      "name": "python3",
      "display_name": "Python 3"
    },
    "language_info": {
      "name": "python"
    }
  },
  "cells": [
    {
      "cell_type": "markdown",
      "metadata": {
        "id": "view-in-github",
        "colab_type": "text"
      },
      "source": [
        "<a href=\"https://colab.research.google.com/github/sngyu0217/Python_ai/blob/main/Untitled0.ipynb\" target=\"_parent\"><img src=\"https://colab.research.google.com/assets/colab-badge.svg\" alt=\"Open In Colab\"/></a>"
      ]
    },
    {
      "cell_type": "markdown",
      "source": [
        "# 예외처리의 필요성\n",
        "\n",
        "- 문제 발생으로 인해 프로그램이 비정상적으로 종료되는 것을 막고 발생한 문제에 대한 정보를 전달하기 위해 사용"
      ],
      "metadata": {
        "id": "wIOHDaeCX21z"
      }
    },
    {
      "cell_type": "markdown",
      "source": [
        "# try-except문\n",
        "\n",
        "- 예외처리를 위한 기본 구조\n",
        "```\n",
        "try:\n",
        "  ...\n",
        "except[발생오류[as 오류 메세지 변수]]:\n",
        "  ...\n",
        "```\n",
        "-try 블록 실행 중 오류가 발생하면 except 블록이 실행됨\n",
        "  - try 블록에서 오류가 발생하지 않는다면 except 블록은 실행되지 않음"
      ],
      "metadata": {
        "id": "6p6_WAz2YIk4"
      }
    },
    {
      "cell_type": "markdown",
      "source": [
        "## 예외처리 방법\n",
        "\n",
        "- try, except만 쓰는 방법\n",
        "- 발생 오류만 포함한 except문\n",
        "- 발생 오류와 오류 메세지 변수까지 포함한 except문"
      ],
      "metadata": {
        "id": "-0ZcxdqBYJV0"
      }
    },
    {
      "cell_type": "code",
      "execution_count": 1,
      "metadata": {
        "colab": {
          "base_uri": "https://localhost:8080/",
          "height": 146
        },
        "id": "eNH73iqZXY5z",
        "outputId": "88ff72cc-976d-4887-bb18-981af0c09854"
      },
      "outputs": [
        {
          "output_type": "error",
          "ename": "ZeroDivisionError",
          "evalue": "division by zero",
          "traceback": [
            "\u001b[0;31m---------------------------------------------------------------------------\u001b[0m",
            "\u001b[0;31mZeroDivisionError\u001b[0m                         Traceback (most recent call last)",
            "\u001b[0;32m<ipython-input-1-221068dc2815>\u001b[0m in \u001b[0;36m<cell line: 1>\u001b[0;34m()\u001b[0m\n\u001b[0;32m----> 1\u001b[0;31m \u001b[0;36m4\u001b[0m\u001b[0;34m/\u001b[0m\u001b[0;36m0\u001b[0m\u001b[0;34m\u001b[0m\u001b[0;34m\u001b[0m\u001b[0m\n\u001b[0m",
            "\u001b[0;31mZeroDivisionError\u001b[0m: division by zero"
          ]
        }
      ],
      "source": [
        "4/0"
      ]
    },
    {
      "cell_type": "code",
      "source": [
        "#try, except만 쓰는 방법\n",
        "try:\n",
        "  4/0\n",
        "\n",
        "except:\n",
        "  print(\"error\")"
      ],
      "metadata": {
        "colab": {
          "base_uri": "https://localhost:8080/"
        },
        "id": "99EeS8YxY3BP",
        "outputId": "da1c6ebb-8471-4705-ce3e-bca6cdaf350b"
      },
      "execution_count": 2,
      "outputs": [
        {
          "output_type": "stream",
          "name": "stdout",
          "text": [
            "error\n"
          ]
        }
      ]
    },
    {
      "cell_type": "code",
      "source": [
        "# 발생 오류만 포함한 except문\n",
        "try:\n",
        "  4/0\n",
        "\n",
        "except ZeroDivisionError:\n",
        "  print(\"ZeroDivisionError\")\n",
        "\n",
        "except KeyError:\n",
        "  print(\"KeyError\")"
      ],
      "metadata": {
        "colab": {
          "base_uri": "https://localhost:8080/"
        },
        "id": "KlXmolUBZA9a",
        "outputId": "3c6884cd-b383-4f61-df59-e02e7951564b"
      },
      "execution_count": 3,
      "outputs": [
        {
          "output_type": "stream",
          "name": "stdout",
          "text": [
            "ZeroDivisionError\n"
          ]
        }
      ]
    },
    {
      "cell_type": "code",
      "source": [
        "try:\n",
        "  a=int(input(\"첫 번째 숫자를 입력: \"))\n",
        "  b=int(input(\"두 번째 숫자를 입력: \"))\n",
        "  print(f\"{a} / {b} ={a/b}\")\n",
        "\n",
        "except ZeroDivisionError as e:\n",
        "  print(e)\n",
        "  print(\"0으로 나눌 수 없습니다\")\n",
        "\n",
        "except ValueError as e:\n",
        "  print(e)\n",
        "  print(\"정수만 입력할 수 있습니다\")"
      ],
      "metadata": {
        "colab": {
          "base_uri": "https://localhost:8080/"
        },
        "id": "nnZjEKx7Z6_P",
        "outputId": "792cde7a-f4a5-461c-bcd8-073ec41df69b"
      },
      "execution_count": 4,
      "outputs": [
        {
          "output_type": "stream",
          "name": "stdout",
          "text": [
            "첫 번째 숫자를 입력: 히히 터져라\n",
            "invalid literal for int() with base 10: '히히 터져라'\n",
            "정수만 입력할 수 있습니다\n"
          ]
        }
      ]
    },
    {
      "cell_type": "markdown",
      "source": [
        "# else, finally 문\n",
        "```\n",
        "try:\n",
        "  코드 작성 영역\n",
        "\n",
        "except:\n",
        "  예외 발생시 처리 영역\n",
        "\n",
        "else:\n",
        "  예외가 없을 때 처리 영역\n",
        "\n",
        "finally:\n",
        "  언제나 실행되는 영역\n",
        "```"
      ],
      "metadata": {
        "id": "D82XxPGgakH6"
      }
    },
    {
      "cell_type": "code",
      "source": [
        "try:\n",
        "  a=int(input(\"첫 번쩨 수: \"))\n",
        "  b=int(input(\"두 번째 수: \"))\n",
        "  result=a/b\n",
        "\n",
        "except Exception as e:\n",
        "  print(e)\n",
        "\n",
        "else:\n",
        "  print(f\"{a} / {b} ={result}\")\n",
        "\n",
        "finally:\n",
        "  print(\"프로그램을 종료\")"
      ],
      "metadata": {
        "colab": {
          "base_uri": "https://localhost:8080/"
        },
        "id": "qpCCfi-Wac_Q",
        "outputId": "ac785f0b-02f4-4055-a244-82c9e43b111b"
      },
      "execution_count": 5,
      "outputs": [
        {
          "output_type": "stream",
          "name": "stdout",
          "text": [
            "첫 번쩨 수: glgl\n",
            "invalid literal for int() with base 10: 'glgl'\n",
            "프로그램을 종료\n"
          ]
        }
      ]
    },
    {
      "cell_type": "markdown",
      "source": [
        "# try, except, finally 구문의 조합\n",
        "\n",
        "- try 구문은 단독으로 사용할 수 없으며, 반드시 except 구문 또는 finally 구문과 함께 사용해야함\n",
        "- else 구문은 반드시 except 구문 뒤에 사용해야 함\n",
        "  - try + except\n",
        "  - try + except + else\n",
        "  - try + except + finally\n",
        "  - try + except + else + finally\n",
        "  - try + finally\n",
        "- 가능한 조합 이외 모든 조합은 구문 오류 발생"
      ],
      "metadata": {
        "id": "3NiIUIV_csCN"
      }
    },
    {
      "cell_type": "code",
      "source": [
        "try:\n",
        "  input_aint(input(\"정수 입력: \"))\n",
        "  print(input_a)\n",
        "else:\n",
        "  print(\"프로그램 종료\")"
      ],
      "metadata": {
        "colab": {
          "base_uri": "https://localhost:8080/",
          "height": 110
        },
        "id": "RJppdjI_cl4I",
        "outputId": "5f15110b-56d7-4bab-9570-6cfd5a247bbb"
      },
      "execution_count": 6,
      "outputs": [
        {
          "output_type": "error",
          "ename": "SyntaxError",
          "evalue": "expected 'except' or 'finally' block (<ipython-input-6-316d0ecef557>, line 4)",
          "traceback": [
            "\u001b[0;36m  File \u001b[0;32m\"<ipython-input-6-316d0ecef557>\"\u001b[0;36m, line \u001b[0;32m4\u001b[0m\n\u001b[0;31m    else:\u001b[0m\n\u001b[0m    ^\u001b[0m\n\u001b[0;31mSyntaxError\u001b[0m\u001b[0;31m:\u001b[0m expected 'except' or 'finally' block\n"
          ]
        }
      ]
    },
    {
      "cell_type": "markdown",
      "source": [
        "# finally 활용"
      ],
      "metadata": {
        "id": "qHNG91Geddj6"
      }
    },
    {
      "cell_type": "code",
      "source": [
        "# try 구문 내부에서 return 키워드를 사용하는 경우\n",
        "def test():\n",
        "  print(\"test() 함수의 첫 줄\")\n",
        "\n",
        "  try:\n",
        "    print(\"try 구문 실행\")\n",
        "    return # 함수는 return을 만나는 순간 종료됨\n",
        "    print(\"try 구문의 return 키워드 뒤\")\n",
        "\n",
        "  except:\n",
        "    print(\"except 구문 실행\")\n",
        "\n",
        "  else: # try가 오루없이 끝까지 실행되었을 때 실행됨\n",
        "    print(\"else 구문 실행\")\n",
        "\n",
        "  finally:\n",
        "    print(\"finally 구문 실행\")\n",
        "\n",
        "  print(\"test() 함수의 마지막 줄\")"
      ],
      "metadata": {
        "id": "NhE8Uwjqdae6"
      },
      "execution_count": 7,
      "outputs": []
    },
    {
      "cell_type": "code",
      "source": [
        "test()"
      ],
      "metadata": {
        "colab": {
          "base_uri": "https://localhost:8080/"
        },
        "id": "hdsuQW_tnmMs",
        "outputId": "d53adc40-9a86-44e3-fba6-3d8ce40bac69"
      },
      "execution_count": 8,
      "outputs": [
        {
          "output_type": "stream",
          "name": "stdout",
          "text": [
            "test() 함수의 첫 줄\n",
            "try 구문 실행\n",
            "finally 구문 실행\n"
          ]
        }
      ]
    },
    {
      "cell_type": "markdown",
      "source": [
        "- try 구문 중간에 return으로 탈출해도 finally가 실행됨\n",
        "  - 함수 내부에서 파일 처리 코드를 깔끔하게 만들고 싶을 때 finally를 주로 활용"
      ],
      "metadata": {
        "id": "KQxcuF7anp9Z"
      }
    },
    {
      "cell_type": "code",
      "source": [
        "# 반복문과 finally를 사용하는 경우\n",
        "print(\"프로그램 시작\")\n",
        "\n",
        "while True:\n",
        "  try:\n",
        "    print(\"try 구문 실행\")\n",
        "    break\n",
        "    print(\"try 구문의 break 키워드 뒤\")\n",
        "\n",
        "  except:\n",
        "    print(\"except 구문 실행\")\n",
        "\n",
        "  else:\n",
        "    print(\"else 구문 실행\")\n",
        "\n",
        "  finally:\n",
        "    print(\"finally  구문 실행\")\n",
        "\n",
        "  print(\"while 반복문의 마지막 줄\")\n",
        "\n",
        "print(\"프로그램 종료\")"
      ],
      "metadata": {
        "colab": {
          "base_uri": "https://localhost:8080/"
        },
        "id": "PpTYjou5nn8V",
        "outputId": "b7526e23-ddb0-4342-e3de-67959b9789d0"
      },
      "execution_count": 9,
      "outputs": [
        {
          "output_type": "stream",
          "name": "stdout",
          "text": [
            "프로그램 시작\n",
            "try 구문 실행\n",
            "finally  구문 실행\n",
            "프로그램 종료\n"
          ]
        }
      ]
    },
    {
      "cell_type": "markdown",
      "source": [
        "# 오류의 종류\n",
        "\n",
        "- 구문 오류(syntax error) : 프로그램 실행 전에 발생하는 오류\n",
        "- 런타임 오류(runtime error) : 프로그램 실행 중에 발생하는 오류"
      ],
      "metadata": {
        "id": "dPGumgymokoQ"
      }
    },
    {
      "cell_type": "markdown",
      "source": [
        "## 구문 오류\n",
        "\n",
        "- 괄호의 개수, 들여쓰기 문제 등으로 프로그램이 실행되기 전에 발생하는 오류\n",
        "  - 프로그램이 실행 조차 되지 않기 때문에 예외처리로는 처리할 수 없음\n",
        "  - 구문 오류가 발생한 코드를 수정해야 함"
      ],
      "metadata": {
        "id": "LOCOlcE8okUD"
      }
    },
    {
      "cell_type": "code",
      "source": [
        "print(\"프로그램 시작\")\n",
        "\n",
        "# 구문 오류 발생 코드\n",
        "print(\"오류 발생\")"
      ],
      "metadata": {
        "colab": {
          "base_uri": "https://localhost:8080/"
        },
        "id": "dWeQ6rLYoh2f",
        "outputId": "adb2de19-12bc-4b0a-9e06-2a20251a738f"
      },
      "execution_count": 10,
      "outputs": [
        {
          "output_type": "stream",
          "name": "stdout",
          "text": [
            "프로그램 시작\n",
            "오류 발생\n"
          ]
        }
      ]
    },
    {
      "cell_type": "markdown",
      "source": [
        "- SyntaxError : 구문에 문제가 있어 프로그램이 실행되지 않음"
      ],
      "metadata": {
        "id": "_Xtx2H2vpOOd"
      }
    },
    {
      "cell_type": "markdown",
      "source": [
        "## 런타임 오류\n",
        "\n",
        "- 프로그램 실행 중에 발생하는 오류\n",
        "- 예외라고 함"
      ],
      "metadata": {
        "id": "DMz2xZswpN45"
      }
    },
    {
      "cell_type": "code",
      "source": [
        "print(\"프로그램 시작\")\n",
        "\n",
        "# 예외 발생 코드\n",
        "list_a[1]"
      ],
      "metadata": {
        "colab": {
          "base_uri": "https://localhost:8080/",
          "height": 201
        },
        "id": "QSYURvxYpKJL",
        "outputId": "71115c8b-3784-4ac5-97cd-71a68cfc2cd2"
      },
      "execution_count": 11,
      "outputs": [
        {
          "output_type": "stream",
          "name": "stdout",
          "text": [
            "프로그램 시작\n"
          ]
        },
        {
          "output_type": "error",
          "ename": "NameError",
          "evalue": "name 'list_A' is not defined",
          "traceback": [
            "\u001b[0;31m---------------------------------------------------------------------------\u001b[0m",
            "\u001b[0;31mNameError\u001b[0m                                 Traceback (most recent call last)",
            "\u001b[0;32m<ipython-input-11-550d50abe825>\u001b[0m in \u001b[0;36m<cell line: 4>\u001b[0;34m()\u001b[0m\n\u001b[1;32m      2\u001b[0m \u001b[0;34m\u001b[0m\u001b[0m\n\u001b[1;32m      3\u001b[0m \u001b[0;31m# 예외 발생 코드\u001b[0m\u001b[0;34m\u001b[0m\u001b[0;34m\u001b[0m\u001b[0m\n\u001b[0;32m----> 4\u001b[0;31m \u001b[0mlist_A\u001b[0m\u001b[0;34m[\u001b[0m\u001b[0;36m1\u001b[0m\u001b[0;34m]\u001b[0m\u001b[0;34m\u001b[0m\u001b[0;34m\u001b[0m\u001b[0m\n\u001b[0m",
            "\u001b[0;31mNameError\u001b[0m: name 'list_A' is not defined"
          ]
        }
      ]
    },
    {
      "cell_type": "markdown",
      "source": [
        "# 조건문으로 예외 처리하기"
      ],
      "metadata": {
        "id": "zmOoZf5xpuzf"
      }
    },
    {
      "cell_type": "code",
      "source": [
        "# 숫자를 입력받음\n",
        "input_a=input(\"정수 입력: \")\n",
        "\n",
        "# 숫자로 변환\n",
        "number_input=int(input_a)\n",
        "\n",
        "# 출력\n",
        "print(number_input)"
      ],
      "metadata": {
        "colab": {
          "base_uri": "https://localhost:8080/"
        },
        "id": "eyoUpl5npiNX",
        "outputId": "eccd328d-0e63-4c2e-acc7-8c9e19ac4499"
      },
      "execution_count": 12,
      "outputs": [
        {
          "output_type": "stream",
          "name": "stdout",
          "text": [
            "정수 입력: 123\n",
            "123\n"
          ]
        }
      ]
    },
    {
      "cell_type": "code",
      "source": [
        "# 숫자를 입력 받음\n",
        "input_a=input(\"정수 입력: \")\n",
        "\n",
        "# 사용자의 입력이 숫자로만 구성되어 있을 때\n",
        "if input_a.isdigit(): # isdigit() : 숫자로만 구성된 글자인지 확인\n",
        "  # 숫자로 변환\n",
        "  number_input=int(input_a)\n",
        "\n",
        "  # 출력\n",
        "  print(number_input)\n",
        "\n",
        "else:\n",
        "  print(\"정수를 입력하지 않았습니다\")"
      ],
      "metadata": {
        "colab": {
          "base_uri": "https://localhost:8080/"
        },
        "id": "F7vFA7wqqBK5",
        "outputId": "ad9129ab-67e6-4df5-fd17-82f81b9d2f4a"
      },
      "execution_count": 15,
      "outputs": [
        {
          "output_type": "stream",
          "name": "stdout",
          "text": [
            "정수 입력: 153\n",
            "153\n"
          ]
        }
      ]
    }
  ]
}